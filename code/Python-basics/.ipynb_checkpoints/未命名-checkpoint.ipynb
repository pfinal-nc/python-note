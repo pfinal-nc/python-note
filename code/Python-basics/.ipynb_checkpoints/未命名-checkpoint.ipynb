{
 "cells": [
  {
   "cell_type": "code",
   "execution_count": 3,
   "id": "97b6c537",
   "metadata": {
    "ExecuteTime": {
     "end_time": "2023-04-18T03:41:20.676523Z",
     "start_time": "2023-04-18T03:41:20.672231Z"
    }
   },
   "outputs": [
    {
     "name": "stdout",
     "output_type": "stream",
     "text": [
      "time.struct_time(tm_year=2023, tm_mon=4, tm_mday=18, tm_hour=11, tm_min=41, tm_sec=20, tm_wday=1, tm_yday=108, tm_isdst=0)\n",
      "2023-04-18 11:41:20\n"
     ]
    }
   ],
   "source": [
    "# 获取当前的时间戳\n",
    "import time\n",
    "timeArray = time.localtime(time.time())\n",
    "print(timeArray)\n",
    "createTime = time.strftime(\"%Y-%m-%d %H:%M:%S\", timeArray)\n",
    "print(createTime)"
   ]
  },
  {
   "cell_type": "code",
   "execution_count": 6,
   "id": "19909095",
   "metadata": {
    "ExecuteTime": {
     "end_time": "2023-04-18T05:36:12.870996Z",
     "start_time": "2023-04-18T05:36:12.867059Z"
    }
   },
   "outputs": [
    {
     "name": "stdout",
     "output_type": "stream",
     "text": [
      "1\n"
     ]
    }
   ],
   "source": [
    "name = 1 if 1<2 else 3\n",
    "print(name)"
   ]
  },
  {
   "cell_type": "code",
   "execution_count": 9,
   "id": "f660edd0",
   "metadata": {
    "ExecuteTime": {
     "end_time": "2023-04-18T05:54:48.483181Z",
     "start_time": "2023-04-18T05:54:48.479472Z"
    }
   },
   "outputs": [
    {
     "name": "stdout",
     "output_type": "stream",
     "text": [
      "4\n"
     ]
    }
   ],
   "source": [
    "arr = [11,2,3,4]\n",
    "print(len(arr))"
   ]
  },
  {
   "cell_type": "code",
   "execution_count": 5,
   "id": "c8b8ff6d",
   "metadata": {
    "ExecuteTime": {
     "end_time": "2023-04-19T02:04:38.811104Z",
     "start_time": "2023-04-19T02:04:38.806918Z"
    }
   },
   "outputs": [
    {
     "name": "stdout",
     "output_type": "stream",
     "text": [
      "this is a test!\n",
      "Nice！\n"
     ]
    }
   ],
   "source": [
    "import  random\n",
    "from retrying import retry\n",
    "#retry 装饰器\n",
    "@retry\n",
    "def do_something_retry():\n",
    "    if random.randint(0,10) > 1:\n",
    "        print(f'this is a test!')\n",
    "        raise IOError('raise exception!')\n",
    "    else:\n",
    "        return \"Nice！\"\n",
    "print(do_something_retry())"
   ]
  }
 ],
 "metadata": {
  "kernelspec": {
   "display_name": "Python 3 (ipykernel)",
   "language": "python",
   "name": "python3"
  },
  "language_info": {
   "codemirror_mode": {
    "name": "ipython",
    "version": 3
   },
   "file_extension": ".py",
   "mimetype": "text/x-python",
   "name": "python",
   "nbconvert_exporter": "python",
   "pygments_lexer": "ipython3",
   "version": "3.9.16"
  },
  "toc": {
   "base_numbering": 1,
   "nav_menu": {},
   "number_sections": true,
   "sideBar": true,
   "skip_h1_title": false,
   "title_cell": "Table of Contents",
   "title_sidebar": "Contents",
   "toc_cell": false,
   "toc_position": {},
   "toc_section_display": true,
   "toc_window_display": false
  }
 },
 "nbformat": 4,
 "nbformat_minor": 5
}
