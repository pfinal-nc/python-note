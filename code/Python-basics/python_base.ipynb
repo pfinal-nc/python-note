{
 "cells": [
  {
   "cell_type": "code",
   "execution_count": 1,
   "id": "078900b7",
   "metadata": {
    "ExecuteTime": {
     "end_time": "2023-04-12T02:11:43.790928Z",
     "start_time": "2023-04-12T02:11:43.787203Z"
    }
   },
   "outputs": [
    {
     "name": "stdout",
     "output_type": "stream",
     "text": [
      "['__add__', '__class__', '__contains__', '__delattr__', '__dir__', '__doc__', '__eq__', '__format__', '__ge__', '__getattribute__', '__getitem__', '__getnewargs__', '__gt__', '__hash__', '__init__', '__init_subclass__', '__iter__', '__le__', '__len__', '__lt__', '__mod__', '__mul__', '__ne__', '__new__', '__reduce__', '__reduce_ex__', '__repr__', '__rmod__', '__rmul__', '__setattr__', '__sizeof__', '__str__', '__subclasshook__', 'capitalize', 'casefold', 'center', 'count', 'encode', 'endswith', 'expandtabs', 'find', 'format', 'format_map', 'index', 'isalnum', 'isalpha', 'isascii', 'isdecimal', 'isdigit', 'isidentifier', 'islower', 'isnumeric', 'isprintable', 'isspace', 'istitle', 'isupper', 'join', 'ljust', 'lower', 'lstrip', 'maketrans', 'partition', 'removeprefix', 'removesuffix', 'replace', 'rfind', 'rindex', 'rjust', 'rpartition', 'rsplit', 'rstrip', 'split', 'splitlines', 'startswith', 'strip', 'swapcase', 'title', 'translate', 'upper', 'zfill']\n"
     ]
    }
   ],
   "source": [
    "# -- 帮助\n",
    "# help()\n",
    "print(dir(\"./\"))"
   ]
  },
  {
   "cell_type": "code",
   "execution_count": 2,
   "id": "ca9c58f1",
   "metadata": {
    "ExecuteTime": {
     "end_time": "2023-04-12T02:27:22.345500Z",
     "start_time": "2023-04-12T02:27:22.341122Z"
    }
   },
   "outputs": [
    {
     "name": "stdout",
     "output_type": "stream",
     "text": [
      "arr is List\n",
      "arr is list\n",
      "arr is list\n"
     ]
    }
   ],
   "source": [
    "# list 类型测试 推荐使用 isinstance 函数 来判断变量类型\n",
    "arr = [1,2,3,4] \n",
    "if type(arr) == type([]):\n",
    "    print(\"arr is List\")\n",
    "if type(arr) == list:\n",
    "    print(\"arr is list\")\n",
    "if isinstance(arr,list):\n",
    "    print(\"arr is list\")"
   ]
  },
  {
   "cell_type": "markdown",
   "id": "2fb8fc0d",
   "metadata": {},
   "source": [
    "#### python 数据类型:\n",
    "- 数字类型: int,float,decimal.Decimal,fractions.Frraction,complex\n",
    "- 字符串类型: str,bytes\n",
    "- 冻结集合: frozenset\n",
    "- 布尔类型: True,False\n",
    "- None\n",
    "#### 数字常量\n",
    "- 1234, -1234, 0, 999999999                    # 整数\n",
    "- 1.23, 1., 3.14e-10, 4E210, 4.0e+210          # 浮点数\n",
    "- 0o177, 0x9ff, 0X9FF, 0b101010                # 八进制、十六进制、二进制数字\n",
    "- 3+4j, 3.0+4.0j, 3J                           # 复数常量，也可以用complex(real, image)来创建\n",
    "- hex(I), oct(I), bin(I)                     # 将十进制数转化为十六进制、八进制、二进制表示的“字符串”\n",
    "- int(string, base)                            # 将字符串转化为整数，base为进制数\n",
    "*2.x中，有两种整数类型：一般整数（32位）和长整数（无穷精度）。可以用l或L结尾，迫使一般整数成为长整数*\n",
    "- float('inf'), float('-inf'), float('nan')    # 无穷大, 无穷小, 非数"
   ]
  },
  {
   "cell_type": "code",
   "execution_count": 4,
   "id": "9faa64a3",
   "metadata": {
    "ExecuteTime": {
     "end_time": "2023-04-12T02:37:37.089084Z",
     "start_time": "2023-04-12T02:37:37.081082Z"
    }
   },
   "outputs": [
    {
     "data": {
      "text/plain": [
       "(3, 3.0)"
      ]
     },
     "execution_count": 4,
     "metadata": {},
     "output_type": "execute_result"
    }
   ],
   "source": [
    "# --  数字表达式操作符\n",
    "# yield x                      # 生成器函数发送协议\n",
    "#lambda args:expression        # 生成匿名函数\n",
    "# x if y else z                #  三元选择表达式\n",
    "#     x and y, x or y, not x                       # 逻辑与、逻辑或、逻辑非\n",
    "#     x in y, x not in y                           # 成员对象测试\n",
    "#     x is y, x is not y                           # 对象实体测试\n",
    "#     x<y, x<=y, x>y, x>=y, x==y, x!=y             # 大小比较，集合子集或超集值相等性操作符\n",
    "#    1 < a < 3                                    # Python中允许连续比较\n",
    "#     x|y, x&y, x^y                                # 位或、位与、位异或\n",
    "#     x<<y, x>>y                                   # 位操作：x左移、右移y位\n",
    "#     +, -, *, /, //, %, **                        # 真除法、floor除法：返回不大于真除法结果的整数值、取余、幂运算\n",
    "#     -x, +x, ~x                                   # 一元减法、识别、按位求补（取反）\n",
    "#     x[i], x[i:j:k]                               # 索引、分片\n",
    "int(3.14), float(3)                          # 强制类型转换"
   ]
  },
  {
   "cell_type": "code",
   "execution_count": 7,
   "id": "fb1ce602",
   "metadata": {
    "ExecuteTime": {
     "end_time": "2023-04-12T02:39:05.847881Z",
     "start_time": "2023-04-12T02:39:05.843201Z"
    }
   },
   "outputs": [
    {
     "data": {
      "text/plain": [
       "11"
      ]
     },
     "execution_count": 7,
     "metadata": {},
     "output_type": "execute_result"
    }
   ],
   "source": [
    "#-- 整数可以利用 bit-length 函数测试所占的位数\n",
    "a = 1 \n",
    "a.bit_length()\n",
    "a = 1024\n",
    "a.bit_length()"
   ]
  },
  {
   "cell_type": "markdown",
   "id": "eda62e76",
   "metadata": {},
   "source": [
    "#### repr 和 strr 显示格式的区别\n",
    "- repr 格式: 默认的交互模式回显, 产生的结果看来他们就像代码\n",
    "- str 格式: 打印语句 转化成一种对用户更加友好的格式"
   ]
  },
  {
   "cell_type": "code",
   "execution_count": 13,
   "id": "5cbe2e52",
   "metadata": {
    "ExecuteTime": {
     "end_time": "2023-04-12T03:11:14.000937Z",
     "start_time": "2023-04-12T03:11:13.996353Z"
    }
   },
   "outputs": [
    {
     "name": "stdout",
     "output_type": "stream",
     "text": [
      "1/4\n"
     ]
    }
   ],
   "source": [
    "# 数字相关的模块\n",
    "# Decimal 小数模块\n",
    "import decimal\n",
    "from decimal import Decimal\n",
    "Decimal(\"0.01\") + Decimal(\"0.02\")\n",
    "decimal.getcontext().prec = 4 # 设置全局精度为4 即小数点后4位\n",
    "from fractions import Fraction \n",
    "x = Fraction(4,6) # 分数类型 4/6\n",
    "x = Fraction(\"0.25\") # 分数类型1/4 接收字符串类型的参数\n",
    "print(x)"
   ]
  },
  {
   "cell_type": "code",
   "execution_count": 38,
   "id": "34fae505",
   "metadata": {
    "ExecuteTime": {
     "end_time": "2023-04-12T03:23:01.212568Z",
     "start_time": "2023-04-12T03:23:01.202121Z"
    }
   },
   "outputs": [
    {
     "name": "stdout",
     "output_type": "stream",
     "text": [
      "{3, 4, 5, 8, 10, 'hello'}\n",
      "{'hello'}\n",
      "{3, 4, 5, 8, 10}\n",
      "{'x'}\n",
      "{3, 4, 5, 37, 8, 10, 42, 'hello'}\n",
      "{16, 9, 4}\n"
     ]
    },
    {
     "data": {
      "text/plain": [
       "{'a', 'm', 'p', 's'}"
      ]
     },
     "execution_count": 38,
     "metadata": {},
     "output_type": "execute_result"
    }
   ],
   "source": [
    "# 集合 set\n",
    "\"\"\"\n",
    " set是一个无序不重复元素集, 基本功能包括关系测试和消除重复元素。\n",
    " set支持union(联合), intersection(交), difference(差)和symmetric difference(对称差集)等数学运算。\n",
    " set支持x in set, len(set), for x in set。\n",
    " set不记录元素位置或者插入点, 因此不支持indexing, slicing, 或其它类序列的操作\n",
    "\"\"\"\n",
    "s = set([3,4,5,8,10,'hello'])\n",
    "t = set([\"hello\"])\n",
    "a = t | s; print(a); t.union(s)  # t 和 s 的并集\n",
    "b = t & s; print(b); t.intersection(s) # t和s的交集\n",
    "d = t ^ s; print(d); t.symmetric_difference(s)  # 对称差集(项在t或s中，但不会同时出现啊那在二者中)\n",
    "t.add('x');   t.remove('hello'); print(t)# 增加/删除一个item\n",
    "s.update([10,37,42]);print(s)  # 利用[......]更新s集合\n",
    "x=12; x in s;  x not in s;                          # 集合中是否存在某个值\n",
    "s.issubset(t);      s <= t                   # 测试是否 s 中的每一个元素都在 t 中\n",
    "s.issuperset(t);    s >= t                   # 测试是否 t 中的每一个元素都在 s 中 \n",
    "s.copy(); \n",
    "s.discard(x);                                # 删除s中x\n",
    "s.clear()                                    # 清空s\n",
    "print({x**2 for x in [2, 3, 4]})              # 集合解析，结果：{16, 1, 4, 9}\n",
    "{x for x in 'spam'}                          # 集合解析，结果：{'a', 'p', 's', 'm'}"
   ]
  },
  {
   "cell_type": "code",
   "execution_count": 40,
   "id": "25385453",
   "metadata": {
    "ExecuteTime": {
     "end_time": "2023-04-12T03:25:34.494849Z",
     "start_time": "2023-04-12T03:25:34.490917Z"
    }
   },
   "outputs": [
    {
     "name": "stdout",
     "output_type": "stream",
     "text": [
      "{frozenset({1, 2, 3})}\n"
     ]
    }
   ],
   "source": [
    "#-- 集合frozenset，不可变对象\n",
    "\"\"\"\n",
    "set是可变对象，即不存在hash值，不能作为字典的键值。同样的还有list等(tuple是可以作为字典key的)\n",
    "frozenset是不可变对象，即存在hash值，可作为字典的键值\n",
    "frozenset对象没有add、remove等方法，但有union/intersection/difference等方法\n",
    "\"\"\"\n",
    "a = set([1,2,3])\n",
    "b = set()\n",
    "# b.add(a); print(b) # error set 是不可哈希类型\n",
    "b.add(frozenset(a));print(b) #  ok，将set变为frozenset，可哈希"
   ]
  },
  {
   "cell_type": "code",
   "execution_count": 47,
   "id": "a079f9db",
   "metadata": {
    "ExecuteTime": {
     "end_time": "2023-04-12T03:27:54.149438Z",
     "start_time": "2023-04-12T03:27:54.144599Z"
    }
   },
   "outputs": [
    {
     "name": "stderr",
     "output_type": "stream",
     "text": [
      "<>:4: SyntaxWarning: \"is\" with a literal. Did you mean \"==\"?\n",
      "<>:4: SyntaxWarning: \"is\" with a literal. Did you mean \"==\"?\n",
      "/var/folders/qw/knd580v94n533wq_vds6vp_w0000gn/T/ipykernel_14013/2075260688.py:4: SyntaxWarning: \"is\" with a literal. Did you mean \"==\"?\n",
      "  True == 1; True is 1         # 输出(True, False)\n"
     ]
    },
    {
     "data": {
      "text/plain": [
       "False"
      ]
     },
     "execution_count": 47,
     "metadata": {},
     "output_type": "execute_result"
    }
   ],
   "source": [
    "#-- 布尔类型\n",
    "# type(True)\n",
    "# isinstance(False,int) \n",
    "True == 1; True is 1         # 输出(True, False)"
   ]
  },
  {
   "cell_type": "code",
   "execution_count": 53,
   "id": "b61e46ca",
   "metadata": {
    "ExecuteTime": {
     "end_time": "2023-04-12T03:30:09.099918Z",
     "start_time": "2023-04-12T03:30:09.095074Z"
    }
   },
   "outputs": [
    {
     "name": "stdout",
     "output_type": "stream",
     "text": [
      "[1, 2, 3, 4, 3, 4] [1, 2]\n"
     ]
    }
   ],
   "source": [
    "#-- 动态类型简介\n",
    "\"\"\"\n",
    "变量名通过引用，指向对象。\n",
    "Python中的“类型”属于对象，而不是变量，每个对象都包含有头部信息，比如\"类型标示符\" \"引用计数器\"等\n",
    "\"\"\"\n",
    " #共享引用及在原处修改：对于可变对象，要注意尽量不要共享引用！\n",
    "L= [1];M=[1]; L is M\n",
    "L = M = [1, 2, 3]; L is M           # 返回True，共享引用\n",
    "#增强赋值和共享引用：普通+号会生成新的对象，而增强赋值+=会在原处修改\n",
    "L = M = [1, 2]\n",
    "L = L + [3, 4]                      # L = [1, 2, 3, 4], M = [1, 2]\n",
    "L += [3, 4]                         # L = [1, 2, 3, 4], M = [1, 2, 3, 4]\n",
    "print(L,M)"
   ]
  },
  {
   "cell_type": "code",
   "execution_count": 54,
   "id": "4f842a95",
   "metadata": {
    "ExecuteTime": {
     "end_time": "2023-04-12T03:34:38.683107Z",
     "start_time": "2023-04-12T03:34:38.656040Z"
    }
   },
   "outputs": [
    {
     "ename": "NameError",
     "evalue": "name 's1' is not defined",
     "output_type": "error",
     "traceback": [
      "\u001b[0;31m---------------------------------------------------------------------------\u001b[0m",
      "\u001b[0;31mNameError\u001b[0m                                 Traceback (most recent call last)",
      "Cell \u001b[0;32mIn[54], line 9\u001b[0m\n\u001b[1;32m      7\u001b[0m S \u001b[38;5;241m=\u001b[39m \u001b[38;5;124mb\u001b[39m\u001b[38;5;124m'\u001b[39m\u001b[38;5;124mSpam\u001b[39m\u001b[38;5;124m'\u001b[39m                             \u001b[38;5;66;03m# Python3中的字节字符串\u001b[39;00m\n\u001b[1;32m      8\u001b[0m S \u001b[38;5;241m=\u001b[39m \u001b[38;5;124mu\u001b[39m\u001b[38;5;124m'\u001b[39m\u001b[38;5;124mspam\u001b[39m\u001b[38;5;124m'\u001b[39m                             \u001b[38;5;66;03m# Python2.6中的Unicode字符串\u001b[39;00m\n\u001b[0;32m----> 9\u001b[0m \u001b[43ms1\u001b[49m\u001b[38;5;241m+\u001b[39ms2, s1\u001b[38;5;241m*\u001b[39m\u001b[38;5;241m3\u001b[39m, s[i], s[i:j], \u001b[38;5;28mlen\u001b[39m(s)       \u001b[38;5;66;03m# 字符串操作\u001b[39;00m\n\u001b[1;32m     10\u001b[0m \u001b[38;5;124m'\u001b[39m\u001b[38;5;124ma \u001b[39m\u001b[38;5;132;01m%s\u001b[39;00m\u001b[38;5;124m parrot\u001b[39m\u001b[38;5;124m'\u001b[39m \u001b[38;5;241m%\u001b[39m \u001b[38;5;124m'\u001b[39m\u001b[38;5;124mkind\u001b[39m\u001b[38;5;124m'\u001b[39m                  \u001b[38;5;66;03m# 字符串格式化表达式\u001b[39;00m\n\u001b[1;32m     11\u001b[0m \u001b[38;5;124m'\u001b[39m\u001b[38;5;124ma \u001b[39m\u001b[38;5;132;01m{1}\u001b[39;00m\u001b[38;5;124m \u001b[39m\u001b[38;5;132;01m{0}\u001b[39;00m\u001b[38;5;124m parrot\u001b[39m\u001b[38;5;124m'\u001b[39m\u001b[38;5;241m.\u001b[39mformat(\u001b[38;5;124m'\u001b[39m\u001b[38;5;124mkind\u001b[39m\u001b[38;5;124m'\u001b[39m, \u001b[38;5;124m'\u001b[39m\u001b[38;5;124mred\u001b[39m\u001b[38;5;124m'\u001b[39m)\u001b[38;5;66;03m# 字符串格式化方法\u001b[39;00m\n",
      "\u001b[0;31mNameError\u001b[0m: name 's1' is not defined"
     ]
    }
   ],
   "source": [
    "#-- 常见的字符串常量和表达式\n",
    "S = ''                                  # 空字符串\n",
    "S = \"spam’s\"                            # 双引号和单引号相同\n",
    "S = \"s\\np\\ta\\x00m\"                      # 转义字符\n",
    "S = \"\"\"spam\"\"\"                          # 三重引号字符串，一般用于函数说明\n",
    "S = r'\\temp'                            # Raw字符串，不会进行转义，抑制转义\n",
    "S = b'Spam'                             # Python3中的字节字符串\n",
    "S = u'spam'                             # Python2.6中的Unicode字符串\n",
    "s1+s2, s1*3, s[i], s[i:j], len(s)       # 字符串操作\n",
    "'a %s parrot' % 'kind'                  # 字符串格式化表达式\n",
    "'a {1} {0} parrot'.format('kind', 'red')# 字符串格式化方法\n",
    "for x in s: print(x)                    # 字符串迭代，成员关系\n",
    "[x*2 for x in s]                        # 字符串列表解析\n",
    "','.join(['a', 'b', 'c'])               # 字符串输出，结果：a,b,c"
   ]
  },
  {
   "cell_type": "code",
   "execution_count": 67,
   "id": "dca58c56",
   "metadata": {
    "ExecuteTime": {
     "end_time": "2023-04-12T03:51:16.135040Z",
     "start_time": "2023-04-12T03:51:16.123416Z"
    }
   },
   "outputs": [
    {
     "name": "stdout",
     "output_type": "stream",
     "text": [
      "PFINAL CLUB\n",
      "pfinal club\n",
      "pfINAL cLUB\n",
      "Pfinal club\n",
      "Pfinal Club\n",
      "PFinal Club\n",
      "                                       PFinal Club\n",
      "PFinal Club\n",
      "PFinal Club\n",
      "-1\n",
      "-1\n",
      "0\n"
     ]
    },
    {
     "data": {
      "text/plain": [
       "False"
      ]
     },
     "execution_count": 67,
     "metadata": {},
     "output_type": "execute_result"
    }
   ],
   "source": [
    "#-- 内置 str 处理函数:\n",
    "str1 = \"PFinal Club\"\n",
    "print(str1.upper());    # 全部大写\n",
    "print(str1.lower());    # 全部小写\n",
    "print(str1.swapcase()); # 大小写转换\n",
    "print(str1.capitalize()); # 首字母大写\n",
    "print(str1.title());    #每个单词的首字母都大写\n",
    "print(str1.ljust(10));                     # 获取固定长度，左对齐，右边不够用空格补齐\n",
    "print(str1.rjust(50))                       # 获取固定长度，右对齐，左边不够用空格补齐\n",
    "print(str1.center(10))                      # 获取固定长度，中间对齐，两边不够用空格补齐\n",
    "print(str1.zfill(10))                     # 获取固定长度，右对齐，左边不足用0补齐\n",
    "print(str1.find('t',0,1))               # 查找字符串，可以指定起始及结束位置搜索\n",
    "print(str1.rfind('t'))# 从右边开始查找字符串\n",
    "print(str1.count('t'))                    # 查找字符串出现的次数\n",
    "#上面所有方法都可用index代替，不同的是使用index查找不到会抛异常，而find返回-1\n",
    "str1.replace('old','new')               # 替换函数，替换old为new，参数中可以指定maxReplaceTimes，即替换指定次数的old为new\n",
    "str1.strip();                           # 默认删除空白符\n",
    "str1.strip('d');                        # 删除str1字符串中开头、结尾处，位于 d 删除序列的字符\n",
    "str1.lstrip();\n",
    "str1.lstrip('d');                       # 删除str1字符串中开头处，位于 d 删除序列的字符\n",
    "str1.rstrip();\n",
    "str1.rstrip('d')                        # 删除str1字符串中结尾处，位于 d 删除序列的字符\n",
    "str1.startswith('start')                # 是否以start开头\n",
    "str1.endswith('end')                    # 是否以end结尾\n",
    "str1.isalnum(); str1.isalpha(); str1.isdigit(); str1.islower(); str1.isupper()      # 判断字符串是否全为字符、数字、小写、大写"
   ]
  },
  {
   "cell_type": "code",
   "execution_count": 69,
   "id": "b3301eaf",
   "metadata": {
    "ExecuteTime": {
     "end_time": "2023-04-12T03:52:34.755857Z",
     "start_time": "2023-04-12T03:52:34.749862Z"
    }
   },
   "outputs": [
    {
     "data": {
      "text/plain": [
       "([2, 3], [2, 3, 4, 5], [1, 2, 3, 4], [2, 4])"
      ]
     },
     "execution_count": 69,
     "metadata": {},
     "output_type": "execute_result"
    }
   ],
   "source": [
    "#-- 索引和分片：\n",
    "S =[1,2,3,4,5]\n",
    "S[0], S[len(S)-1], S[-1]                # 索引\n",
    "S[1:3], S[1:], S[:-1], S[1:10:2]        # 分片，第三个参数指定步长，如`S[1:10:2]`是从1位到10位没隔2位获取一个字符。"
   ]
  },
  {
   "cell_type": "code",
   "execution_count": 80,
   "id": "b35bac0d",
   "metadata": {
    "ExecuteTime": {
     "end_time": "2023-04-12T03:57:17.851376Z",
     "start_time": "2023-04-12T03:57:17.846004Z"
    }
   },
   "outputs": [
    {
     "data": {
      "text/plain": [
       "('0b1101', '0o15', '0xd')"
      ]
     },
     "execution_count": 80,
     "metadata": {},
     "output_type": "execute_result"
    }
   ],
   "source": [
    "#-- 字符串转换\n",
    "int('42'), str(42)\n",
    "float('4.13'), str(4.13)                # 返回(4.13, '4.13')\n",
    "ord('s'), chr(115)                      # 返回(115, 's')\n",
    "int('1001',2)                           # 将字符串作为二进制数字 转化为数字 返回 9\n",
    "bin(13), oct(13), hex(13)               # 将整数转化为二进制/八进制/十六进制字符串，返回('0b1101', '015', '0xd')"
   ]
  },
  {
   "cell_type": "code",
   "execution_count": 6,
   "id": "acb691f9",
   "metadata": {
    "ExecuteTime": {
     "end_time": "2023-04-12T05:18:07.776792Z",
     "start_time": "2023-04-12T05:18:07.770547Z"
    }
   },
   "outputs": [
    {
     "data": {
      "text/plain": [
       "'23---value2'"
      ]
     },
     "execution_count": 6,
     "metadata": {},
     "output_type": "execute_result"
    }
   ],
   "source": [
    "# python 中的字符串格式化实现-- 字符窜格式化表达式\n",
    "\"\"\"\n",
    "基于C语言的'print'模型，并且在大多数的现有的语言中使用。\n",
    "通用结构：%[(name)][flag][width].[precision]typecode\n",
    "\"\"\"\n",
    "\"this is %d %s brid\" % (1,'dead')\n",
    "\"%s---%s---%s\" % (42, 3.14, [1, 2, 3]) \n",
    "\"%d...%6d...%-6d...%06d\" % (1234, 1234, 1234, 1234)         # 对齐方式及填充：\"1234...  1234...1234  ...001234\"\n",
    "x = 1.23456789\n",
    "\"%e | %f | %g\" % (x, x, x)                                  # 对齐方式：\"1.234568e+00 | 1.234568 | 1.23457\"\n",
    "\"%6.2f*%-6.2f*%06.2f*%+6.2f\" % (x, x, x, x)                 # 对齐方式：'  1.23*1.23  *001.23* +1.23'\n",
    "\"%(name1)d---%(name2)s\" % {\"name1\":23, \"name2\":\"value2\"}    # 基于字典的格式化表达式\n"
   ]
  },
  {
   "cell_type": "code",
   "execution_count": 8,
   "id": "59d31650",
   "metadata": {
    "ExecuteTime": {
     "end_time": "2023-04-13T05:37:57.194166Z",
     "start_time": "2023-04-13T05:37:57.185384Z"
    }
   },
   "outputs": [
    {
     "data": {
      "text/plain": [
       "'=spam       =    123.456'"
      ]
     },
     "execution_count": 8,
     "metadata": {},
     "output_type": "execute_result"
    }
   ],
   "source": [
    "#-- python 中的字符串格式化实现-- 字符串格式化调用方法\n",
    "# 普通调用\n",
    "\"{0},{1} and {2}\".format('span','ham','eggs')  # 基于位置调用\n",
    "\"{motto} and {pork}\".format(motto='pf',pork='inal') # 基于key调用\n",
    "\"{motto} and {0}\".format('ham', motto = 'spam')     # 混合调用\n",
    "# 添加建 属性 偏移量 \n",
    "import sys\n",
    "\"my {1[spam]} runs {0.platform}\".format(sys, {'spam':'laptop'})                 # 基于位置的键和属性\n",
    "\"{config[spam]}  {sys.platform}\".format(sys=sys,config={'spam':'laptop'})       # 基于key的键和属性\n",
    "\"first = {0[0]}, second = {0[1]}\".format(['A', 'B', 'C'])                       # 基于位置的偏移量\n",
    "# 具体格式化\n",
    "\"{0:e}, {1:.3e}, {2:g}\".format(3.14159, 3.14159, 3.14159)   # 输出'3.141590e+00, 3.142e+00, 3.14159'\n",
    "#\"{fieldname:format_spec}\".format(......)\n",
    "# 说明:\n",
    "\"\"\"\n",
    "    fieldname是指定参数的一个数字或关键字, 后边可跟可选的\".name\"或\"[index]\"成分引用\n",
    "    format_spec ::=  [[fill]align][sign][#][0][width][,][.precision][type]\n",
    "    fill        ::=  <any character>              #填充字符\n",
    "    align       ::=  \"<\" | \">\" | \"=\" | \"^\"        #对齐方式\n",
    "    sign        ::=  \"+\" | \"-\" | \" \"              #符号说明\n",
    "    width       ::=  integer                      #字符串宽度\n",
    "    precision   ::=  integer                      #浮点数精度\n",
    "    type        ::=  \"b\" | \"c\" | \"d\" | \"e\" | \"E\" | \"f\" | \"F\" | \"g\" | \"G\" | \"n\" | \"o\" | \"s\" | \"x\" | \"X\" | \"%\"\n",
    "\"\"\"\n",
    "# 例子:\n",
    "'={0:10} = {1:10}'.format('spam', 123.456)    # 输出'=spam       =    123.456'\n",
    "# '={0:>10}='.format('test')                    # 输出'=      test='\n",
    "# '={0:<10}='.format('test')                    # 输出'=test      ='\n",
    "# '={0:^10}='.format('test')                    # 输出'=   test   ='\n",
    "# '{0:X}, {1:o}, {2:b}'.format(255, 255, 255)   # 输出'FF, 377, 11111111'\n",
    "# 'My name is {0:{1}}.'.format('Fred', 8)       # 输出'My name is Fred    .'  动态指定参数"
   ]
  },
  {
   "cell_type": "code",
   "execution_count": 3,
   "id": "b638ec67",
   "metadata": {
    "ExecuteTime": {
     "end_time": "2023-04-13T06:22:40.230233Z",
     "start_time": "2023-04-13T06:22:39.911898Z"
    }
   },
   "outputs": [
    {
     "name": "stdout",
     "output_type": "stream",
     "text": [
      "[[1, 2], 'string', {}]\n",
      "['s', 'p', 'a', 'm']\n",
      "[0, 1, 2, 3]\n",
      "[0, 1, 2, 3, 2, 2]\n"
     ]
    },
    {
     "ename": "ValueError",
     "evalue": "too many values to unpack (expected 2)",
     "output_type": "error",
     "traceback": [
      "\u001b[0;31m---------------------------------------------------------------------------\u001b[0m",
      "\u001b[0;31mValueError\u001b[0m                                Traceback (most recent call last)",
      "Cell \u001b[0;32mIn[3], line 20\u001b[0m\n\u001b[1;32m      9\u001b[0m L\u001b[38;5;241m.\u001b[39mappend(\u001b[38;5;241m2\u001b[39m);\u001b[38;5;28mprint\u001b[39m(L)          \u001b[38;5;66;03m# \u001b[39;00m\n\u001b[1;32m     10\u001b[0m \u001b[38;5;66;03m#L.append(obj)                                     # 向列表的尾部添加数据，比如append(2)，添加元素2\u001b[39;00m\n\u001b[1;32m     11\u001b[0m \u001b[38;5;66;03m#L.insert(index, obj)                              # 向列表的指定index位置添加数据，index及其之后的数据后移\u001b[39;00m\n\u001b[1;32m     12\u001b[0m \u001b[38;5;66;03m#L.extend(interable)                               # 通过添加iterable中的元素来扩展列表，比如extend([2])，添加元素2，注意和append的区别\u001b[39;00m\n\u001b[0;32m   (...)\u001b[0m\n\u001b[1;32m     18\u001b[0m \u001b[38;5;66;03m#a = [1, 2, 3], b = a[10:]                         # 注意，这里不会引发IndexError异常，只会返回一个空的列表[]\u001b[39;00m\n\u001b[1;32m     19\u001b[0m \u001b[38;5;66;03m#a = [], a += [1]                                  # 这里实在原有列表的基础上进行操作，即列表的id没有改变\u001b[39;00m\n\u001b[0;32m---> 20\u001b[0m a \u001b[38;5;241m=\u001b[39m [], a \u001b[38;5;241m=\u001b[39m a \u001b[38;5;241m+\u001b[39m [\u001b[38;5;241m1\u001b[39m]                               \u001b[38;5;66;03m# 这里最后的a要构建一个新的列表，即a的id发生了变化\u001b[39;00m\n",
      "\u001b[0;31mValueError\u001b[0m: too many values to unpack (expected 2)"
     ]
    }
   ],
   "source": [
    "#-- 常用列表常量和操作\n",
    "L = [[1, 2], 'string', {}];print(L)                        # 嵌套列表\n",
    "L = list('spam');print(L)                                  # 列表初始化\n",
    "L = list(range(0, 4));print(L)                             # 列表初始化\n",
    "list(map(ord,'spam'))                                      # 列表解析\n",
    "len(L)                        #求列表长度\n",
    "L.count(2)                    #求列表中的某个值\n",
    "L.append(2)\n",
    "L.append(2);print(L)          # \n",
    "#L.append(obj)                                     # 向列表的尾部添加数据，比如append(2)，添加元素2\n",
    "#L.insert(index, obj)                              # 向列表的指定index位置添加数据，index及其之后的数据后移\n",
    "#L.extend(interable)                               # 通过添加iterable中的元素来扩展列表，比如extend([2])，添加元素2，注意和append的区别\n",
    "#L.index(value, [start, [stop]])                   # 返回列表中值value的第一个索引\n",
    "#L.pop([index])                                    # 删除并返回index处的元素，默认为删除并返回最后一个元素\n",
    "#L.remove(value)                                   # 删除列表中的value值，只删除第一次出现的value的值\n",
    "#L.reverse()                                       # 反转列表\n",
    "#L.sort(cmp=None, key=None, reverse=False)         # 排序列表\n",
    "#a = [1, 2, 3], b = a[10:]                         # 注意，这里不会引发IndexError异常，只会返回一个空的列表[]\n",
    "#a = [], a += [1]                                  # 这里实在原有列表的基础上进行操作，即列表的id没有改变\n",
    "a = [], a = a + [1]                               # 这里最后的a要构建一个新的列表，即a的id发生了变化\n",
    "\n"
   ]
  },
  {
   "cell_type": "code",
   "execution_count": 1,
   "id": "edacfcf8",
   "metadata": {
    "ExecuteTime": {
     "end_time": "2023-04-13T06:22:33.429355Z",
     "start_time": "2023-04-13T06:22:33.424450Z"
    }
   },
   "outputs": [
    {
     "name": "stdout",
     "output_type": "stream",
     "text": [
      "[1, 5, 6, 7]\n",
      "[1, 3, 5, 7]\n"
     ]
    }
   ],
   "source": [
    "#-- 用切片来删除序列的某一段\n",
    "a = [1, 2, 3, 4, 5, 6, 7]\n",
    "a[1:4] = []     # a = [1, 5, 6, 7]\n",
    "print(a)\n",
    "a = [0, 1, 2, 3, 4, 5, 6, 7]\n",
    "del a[::2]     # 去除偶数项(偶数索引的)，a = [1, 3, 5, 7]\n",
    "print(a)"
   ]
  },
  {
   "cell_type": "code",
   "execution_count": 29,
   "id": "bc3c0def",
   "metadata": {
    "ExecuteTime": {
     "end_time": "2023-04-13T07:31:39.103799Z",
     "start_time": "2023-04-13T07:31:39.098218Z"
    }
   },
   "outputs": [],
   "source": [
    "#-- 常用字典常亮和操作\n",
    "D = {}\n",
    "D = {'spam':2, 'tol':{'ham':1}}                   # 嵌套字典\n",
    "D = dict.fromkeys(['s', 'd'], 8)                  # {'s': 8, 'd': 8}\n",
    "D = dict([('name','tom'),('age',18)])             # {'name': 'tom', 'age': 18}\n",
    "D = dict(zip(['name', 'age'], ['tom', 12]))       # {'age': 12, 'name': 'tom'}\n",
    "D.keys(); D.values(); D.items()                   # 字典键值\n",
    "D.get('age','')              # get函数\n",
    "D.update({'name':'pfinal','age':20,'sex':1})      # 合并字典，如果存在相同的键值，D_other的数据会覆盖掉D的数据\n",
    "D.pop('age',[D])                                   # 删除字典中键值为key的项，返回键值为key的值，如果不存在，返回默认值D，否则异常\n",
    "D.popitem()                                       # pop字典中随机的一项（一个键值对）\n",
    "#D.setdefault(k[, d])                              # 设置D中某一项的默认值。如果k存在，则返回D[k]，否则设置D[k]=d，同时返回D[k]。\n",
    "# del D                                             # 删除字典\n",
    "# del D['key']                                      # 删除字典的某一项\n",
    "D[(1,2,3)] = 2    "
   ]
  },
  {
   "cell_type": "code",
   "execution_count": 33,
   "id": "3a802273",
   "metadata": {
    "ExecuteTime": {
     "end_time": "2023-04-13T07:32:19.370745Z",
     "start_time": "2023-04-13T07:32:19.366851Z"
    }
   },
   "outputs": [
    {
     "name": "stdout",
     "output_type": "stream",
     "text": [
      "{'name': 'tom', 'age': 12}\n"
     ]
    }
   ],
   "source": [
    "# -- 字典解析\n",
    "D = {k:8 for k in ['s', 'd']}                     # {'s': 8, 'd': 8}\n",
    "D = {k:v for (k, v) in zip(['name', 'age'], ['tom', 12])}       # {'age': 12, 'name': tom}\n",
    "print(D)"
   ]
  },
  {
   "cell_type": "code",
   "execution_count": 36,
   "id": "c77b4a35",
   "metadata": {
    "ExecuteTime": {
     "end_time": "2023-04-13T07:35:20.312222Z",
     "start_time": "2023-04-13T07:35:20.306577Z"
    }
   },
   "outputs": [
    {
     "data": {
      "text/plain": [
       "[1]"
      ]
     },
     "execution_count": 36,
     "metadata": {},
     "output_type": "execute_result"
    }
   ],
   "source": [
    "#-- 字典的特殊方法 __missing__: 当前查找找不到key时候,会执行该方法\n",
    "class Dict(dict):\n",
    "    def __missing__(self,key):\n",
    "        self[key] = []\n",
    "        return self[key]\n",
    "dct = Dict()\n",
    "dct[\"foo\"].append(1)    # 这有点类似于collections.defalutdict\n",
    "dct[\"foo\"]              # [1]"
   ]
  },
  {
   "cell_type": "code",
   "execution_count": 37,
   "id": "0e828163",
   "metadata": {
    "ExecuteTime": {
     "end_time": "2023-04-13T07:39:26.695843Z",
     "start_time": "2023-04-13T07:39:26.692235Z"
    }
   },
   "outputs": [],
   "source": [
    "#-- 元祖和列表的唯一区别在于元祖是不可变对象, 列表是可变对象\n",
    "a = [1, 2, 3]           # a[1] = 0, OK\n",
    "a = (1, 2, 3)           # a[1] = 0, Error\n",
    "a = ([1, 2],)           # a[0][1] = 0, OK\n",
    "a = [(1, 2)]            # a[0][1] = 0, Error"
   ]
  },
  {
   "cell_type": "code",
   "execution_count": 38,
   "id": "dd2b4ad1",
   "metadata": {
    "ExecuteTime": {
     "end_time": "2023-04-13T07:39:45.401588Z",
     "start_time": "2023-04-13T07:39:45.398442Z"
    }
   },
   "outputs": [],
   "source": [
    "#-- 元组的特殊语法: 逗号和圆括号\n",
    "D = (12)                # 此时D为一个整数 即D = 12\n",
    "D = (12, )              # 此时D为一个元组 即D = (12, )"
   ]
  },
  {
   "cell_type": "code",
   "execution_count": 1,
   "id": "3e888129",
   "metadata": {
    "ExecuteTime": {
     "end_time": "2023-04-13T07:44:06.322444Z",
     "start_time": "2023-04-13T07:44:06.314440Z"
    }
   },
   "outputs": [
    {
     "ename": "SyntaxError",
     "evalue": "invalid syntax (1154782577.py, line 15)",
     "output_type": "error",
     "traceback": [
      "\u001b[0;36m  Cell \u001b[0;32mIn[1], line 15\u001b[0;36m\u001b[0m\n\u001b[0;31m    fp.seek(offset[,whence])                # 将文件打开操作标记移到offset的位置。whence为0表示从头开始计算，1表示以当前位置为原点计算。2表示以文件末尾为原点进行计算。\u001b[0m\n\u001b[0m                   ^\u001b[0m\n\u001b[0;31mSyntaxError\u001b[0m\u001b[0;31m:\u001b[0m invalid syntax\n"
     ]
    }
   ],
   "source": [
    "input = open('data', 'r')               # 打开输入文件，用于读。打开的方式可以为'w', 'r', 'a', 'wb', 'rb', 'ab'等\n",
    "fp.read([size])                         # size为读取的长度，以byte为单位\n",
    "fp.readline([size])                     # 读一行，如果定义了size，有可能返回的只是一行的一部分\n",
    "fp.readlines([size])                    # 把文件每一行作为一个list的一个成员，并返回这个list。其实它的内部是通过循环调用readline()来实现的。如果提供size参数，size是表示读取内容的总长。\n",
    "fp.readable()                           # 是否可读\n",
    "fp.write(str)                           # 把str写到文件中，write()并不会在str后加上一个换行符\n",
    "fp.writelines(seq)                      # 把seq的内容全部写到文件中(多行一次性写入)\n",
    "fp.writeable()                          # 是否可写\n",
    "fp.close()                              # 关闭文件。\n",
    "fp.flush()                              # 把缓冲区的内容写入硬盘\n",
    "fp.fileno()                             # 返回一个长整型的”文件标签“\n",
    "fp.isatty()                             # 文件是否是一个终端设备文件（unix系统中的）\n",
    "fp.tell()                               # 返回文件操作标记的当前位置，以文件的开头为原点\n",
    "fp.next()                               # 返回下一行，并将文件操作标记位移到下一行。把一个file用于for … in file这样的语句时，就是调用next()函数来实现遍历的。\n",
    "fp.seek(offset[,whence])                # 将文件打开操作标记移到offset的位置。whence为0表示从头开始计算，1表示以当前位置为原点计算。2表示以文件末尾为原点进行计算。\n",
    "fp.seekable()                           # 是否可以seek\n",
    "fp.truncate([size])                     # 把文件裁成规定的大小，默认的是裁到当前文件操作标记的位置。\n",
    "for line in open('data'): \n",
    "    print(line)                         # 使用for语句，比较适用于打开比较大的文件\n",
    "with open('data') as file:\n",
    "    print(file.readline())              # 使用with语句，可以保证文件关闭\n",
    "with open('data') as file:\n",
    "    lines = file.readlines()            # 一次读入文件所有行，并关闭文件\n",
    "open('f.txt', encoding = 'latin-1')     # Python3.x Unicode文本文件\n",
    "open('f.bin', 'rb')                     # Python3.x 二进制bytes文件\n",
    "# 文件对象还有相应的属性：buffer closed encoding errors line_buffering name newlines等\n"
   ]
  },
  {
   "cell_type": "markdown",
   "id": "d5d1b6fa",
   "metadata": {},
   "source": [
    "#### 语法和语句"
   ]
  },
  {
   "cell_type": "code",
   "execution_count": 5,
   "id": "7cc86246",
   "metadata": {
    "ExecuteTime": {
     "end_time": "2023-04-13T07:47:17.167264Z",
     "start_time": "2023-04-13T07:47:17.162825Z"
    }
   },
   "outputs": [
    {
     "name": "stdout",
     "output_type": "stream",
     "text": [
      "s ['p', 'a'] m\n"
     ]
    }
   ],
   "source": [
    "#-- 赋值语句的形式\n",
    "spam = 'spam'                          # 基本形式\n",
    "spam, ham = 'spam', 'ham'              # 元组赋值形式\n",
    "[spam, ham] = ['s', 'h']               # 列表赋值形式\n",
    "a, b, c, d = 'abcd'                    # 序列赋值形式\n",
    "a, *b, c = 'spam'                      # 序列解包形式（Python3.x中才有）\n",
    "print(a,b,c)\n",
    "# spam = ham = 'no'                      # 多目标赋值运算，涉及到共享引用\n",
    "# spam += 42                             # 增强赋值，涉及到共享引用"
   ]
  },
  {
   "cell_type": "code",
   "execution_count": 7,
   "id": "1673a675",
   "metadata": {
    "ExecuteTime": {
     "end_time": "2023-04-13T07:47:44.579959Z",
     "start_time": "2023-04-13T07:47:44.574880Z"
    }
   },
   "outputs": [
    {
     "name": "stdout",
     "output_type": "stream",
     "text": [
      "1 [] 2\n"
     ]
    }
   ],
   "source": [
    "#-- 序列赋值 序列解包\n",
    "[a, b, c] = (1, 2, 3)                  # a = 1, b = 2, c = 3\n",
    "a, b, c, d = \"spam\"                    # a = 's', b = 'p', c = 'a', d = 'm'\n",
    "a, b, c = range(3)                     # a = 0, b = 1, c = 2\n",
    "a, *b = [1, 2, 3, 4]                   # a = 1, b = [2, 3, 4]\n",
    "*a, b = [1, 2, 3, 4]                   # a = [1, 2, 3], b = 4\n",
    "a, *b, c = [1, 2, 3, 4]                # a = 1, b = [2, 3], c = 4\n",
    "# 带有*时 会优先匹配*之外的变量 如\n",
    "a, *b, c = [1, 2]                      # a = 1, c = 2, b = []\n",
    "print(a,b,c)"
   ]
  },
  {
   "cell_type": "code",
   "execution_count": 11,
   "id": "cdee101a",
   "metadata": {
    "ExecuteTime": {
     "end_time": "2023-04-13T07:48:58.614840Z",
     "start_time": "2023-04-13T07:48:58.609478Z"
    }
   },
   "outputs": [
    {
     "name": "stdout",
     "output_type": "stream",
     "text": [
      "123 Ellipsis\n",
      "hello world\n"
     ]
    }
   ],
   "source": [
    "#-- print函数原型\n",
    "import sys\n",
    "print(123, ..., sep=' ', end='\\n', file=sys.stdout, flush=False)\n",
    "# 流的重定向\n",
    "print('hello world')                   # 等于sys.stdout.write('hello world')\n",
    "temp = sys.stdout                      # 原有流的保存\n",
    "sys.stdout = open('log.log', 'a')      # 流的重定向\n",
    "print('hello world')                   # 写入到文件log.log\n",
    "sys.stdout.close()\n",
    "sys.stdout = temp                      # 原有流的复原"
   ]
  },
  {
   "cell_type": "code",
   "execution_count": 12,
   "id": "8a891c06",
   "metadata": {
    "ExecuteTime": {
     "end_time": "2023-04-13T07:49:35.404574Z",
     "start_time": "2023-04-13T07:49:35.397335Z"
    }
   },
   "outputs": [
    {
     "data": {
      "text/plain": [
       "3"
      ]
     },
     "execution_count": 12,
     "metadata": {},
     "output_type": "execute_result"
    }
   ],
   "source": [
    "#-- Python中and或or总是返回对象(左边的对象或右边的对象) 且具有短路求值的特性\n",
    "1 or 2 or 3                            # 返回 1\n",
    "1 and 2 and 3                          # 返回 3"
   ]
  },
  {
   "cell_type": "code",
   "execution_count": 17,
   "id": "46deb45f",
   "metadata": {
    "ExecuteTime": {
     "end_time": "2023-04-13T07:51:00.370880Z",
     "start_time": "2023-04-13T07:51:00.367286Z"
    }
   },
   "outputs": [],
   "source": [
    "X = Y = False \n",
    "#-- if/else三元表达符（if语句在行内）\n",
    "A = 1 if X else 2\n",
    "A = 1 if X else (2 if Y else 3)\n",
    "# 也可以使用and-or语句（一条语句实现多个if-else）\n",
    "a = 6\n",
    "result = (a > 20 and \"big than 20\" or a > 10 and \"big than 10\" or a > 5 and \"big than 5\")    # 返回\"big than 5\"\n"
   ]
  },
  {
   "cell_type": "code",
   "execution_count": null,
   "id": "2d9bd5c0",
   "metadata": {},
   "outputs": [],
   "source": [
    "#-- Python的while语句或者for语句可以带else语句 当然也可以带continue/break/pass语句\n",
    "while a > 1:\n",
    "    pass\n",
    "else:\n",
    "    pass\n",
    "# else语句会在循环结束后执行，除非在循环中执行了break，同样的还有for语句\n",
    "for i in range(5):\n",
    "    pass\n",
    "else:\n",
    "    pass"
   ]
  },
  {
   "cell_type": "code",
   "execution_count": 23,
   "id": "cce03eb7",
   "metadata": {
    "ExecuteTime": {
     "end_time": "2023-04-13T07:54:01.905442Z",
     "start_time": "2023-04-13T07:54:01.900066Z"
    }
   },
   "outputs": [
    {
     "name": "stdout",
     "output_type": "stream",
     "text": [
      "1 2 3\n",
      "4 5 6\n",
      "1 2 3\n",
      "X Y 6\n",
      "1 [2, 3]\n",
      "4 [5, 6]\n"
     ]
    }
   ],
   "source": [
    "#-- for循环的元组赋值\n",
    "# for (a, b) in [(1, 2), (3, 4)]:                   # 最简单的赋值\n",
    "for ((a, b), c) in [((1, 2), 3), ((4, 5), 6)]:    # 自动解包赋值\n",
    "    print(a,b,c)\n",
    "for ((a, b), c) in [((1, 2), 3), (\"XY\", 6)]:      # 自动解包 a = X, b = Y, c = 6\n",
    "    print(a,b,c)\n",
    "for (a, *b) in [(1, 2, 3), (4, 5, 6)]:            # 自动解包赋值\n",
    "    print(a,b)"
   ]
  },
  {
   "cell_type": "code",
   "execution_count": 36,
   "id": "46c5251f",
   "metadata": {
    "ExecuteTime": {
     "end_time": "2023-04-13T07:58:52.802333Z",
     "start_time": "2023-04-13T07:58:52.795815Z"
    }
   },
   "outputs": [
    {
     "name": "stdout",
     "output_type": "stream",
     "text": [
      "Packers vs. Ravens\n",
      "49ers vs. Patriots\n",
      "0 Packers\n",
      "1 49ers\n",
      "2 Ravens\n",
      "3 Patriots\n"
     ]
    }
   ],
   "source": [
    "#-- 列表解析语法\n",
    "M = [[1,2,3], [4,5,6], [7,8,9]]\n",
    "res = [sum(row) for row in M]                     # G = [6, 15, 24] 一般的列表解析 生成一个列表\n",
    "res = [c * 2 for c in 'spam']                    # ['ss', 'pp', 'aa', 'mm']\n",
    "res = [a * b for a in [1, 2] for b in [4, 5]]     # 多解析过程 返回[4, 5, 8, 10]\n",
    "res = [a for a in [1, 2, 3] if a < 2]             # 带判断条件的解析过程\n",
    "res = [a if a > 0 else 0 for a in [-1, 0, 1]]     # 带判断条件的高级解析过程\n",
    "# 两个列表同时解析：使用zip函数\n",
    "for teama, teamb in zip([\"Packers\", \"49ers\"], [\"Ravens\", \"Patriots\"]):\n",
    "    print(teama + \" vs. \" + teamb)\n",
    "# 带索引的列表解析：使用enumerate函数\n",
    "for index, team in enumerate([\"Packers\", \"49ers\", \"Ravens\", \"Patriots\"]):\n",
    "    print(index, team)"
   ]
  },
  {
   "cell_type": "code",
   "execution_count": 38,
   "id": "36f7c471",
   "metadata": {
    "ExecuteTime": {
     "end_time": "2023-04-13T08:04:46.687552Z",
     "start_time": "2023-04-13T08:04:46.682962Z"
    }
   },
   "outputs": [
    {
     "name": "stdout",
     "output_type": "stream",
     "text": [
      "{0: 6, 1: 15, 2: 24}\n"
     ]
    }
   ],
   "source": [
    "#-- 生成器表达式\n",
    "G = (sum(row) for row in M)                       # 使用小括号可以创建所需结果的生成器generator object\n",
    "next(G), next(G), next(G)                         # 输出(6, 15, 24)\n",
    "G = {sum(row) for row in M}                       # G = {6, 15, 24} 解析语法还可以生成集合和字典\n",
    "G = {i:sum(M[i]) for i in range(3)}               # G = {0: 6, 1: 15, 2: 24}\n",
    "print(G)"
   ]
  },
  {
   "cell_type": "code",
   "execution_count": 2,
   "id": "b326020a",
   "metadata": {
    "ExecuteTime": {
     "end_time": "2023-04-14T02:40:41.595081Z",
     "start_time": "2023-04-14T02:40:41.590468Z"
    }
   },
   "outputs": [
    {
     "name": "stdout",
     "output_type": "stream",
     "text": [
      "\n",
      "\n",
      "    function 函数注释\n",
      "    \n",
      "\n",
      "        class 类注释\n",
      "        \n"
     ]
    }
   ],
   "source": [
    "#-- 文档字符串: 出现在module 的开始以及其中函数或类的开端, 使用三重引号字符串\n",
    "\"\"\"\n",
    "nmodule document\n",
    "\"\"\"\n",
    "def func():\n",
    "    \"\"\"\n",
    "    function 函数注释\n",
    "    \"\"\"\n",
    "    print()\n",
    "\n",
    "class Employee(object):\n",
    "        \"\"\"\n",
    "        class 类注释\n",
    "        \"\"\"\n",
    "        print()\n",
    "print(func.__doc__)                # 输出函数文档字符串\n",
    "print(Employee.__doc__)            # 输出类的文档字符串"
   ]
  },
  {
   "cell_type": "code",
   "execution_count": 4,
   "id": "137eeac0",
   "metadata": {
    "ExecuteTime": {
     "end_time": "2023-04-14T02:42:31.893969Z",
     "start_time": "2023-04-14T02:42:31.506293Z"
    }
   },
   "outputs": [
    {
     "ename": "FileNotFoundError",
     "evalue": "[Errno 2] No such file or directory: 't'",
     "output_type": "error",
     "traceback": [
      "\u001b[0;31m---------------------------------------------------------------------------\u001b[0m",
      "\u001b[0;31mFileNotFoundError\u001b[0m                         Traceback (most recent call last)",
      "Cell \u001b[0;32mIn[4], line 3\u001b[0m\n\u001b[1;32m      1\u001b[0m \u001b[38;5;66;03m#-- 列表解析 in成员关系测试 map sorted zip enumerate内置函数等都使用了迭代协议\u001b[39;00m\n\u001b[1;32m      2\u001b[0m \u001b[38;5;124m'\u001b[39m\u001b[38;5;124mfirst line \u001b[39m\u001b[38;5;124m'\u001b[39m \u001b[38;5;129;01min\u001b[39;00m \u001b[38;5;28mopen\u001b[39m(\u001b[38;5;124m'\u001b[39m\u001b[38;5;124mtext.txt\u001b[39m\u001b[38;5;124m'\u001b[39m)\n\u001b[0;32m----> 3\u001b[0m \u001b[38;5;28mlist\u001b[39m(\u001b[38;5;28mmap\u001b[39m(\u001b[38;5;28mstr\u001b[39m\u001b[38;5;241m.\u001b[39mupper, \u001b[38;5;28;43mopen\u001b[39;49m\u001b[43m(\u001b[49m\u001b[38;5;124;43m'\u001b[39;49m\u001b[38;5;124;43mt\u001b[39;49m\u001b[38;5;124;43m'\u001b[39;49m\u001b[43m)\u001b[49m))    \u001b[38;5;66;03m# map内置函数\u001b[39;00m\n\u001b[1;32m      4\u001b[0m \u001b[38;5;28msorted\u001b[39m(\u001b[38;5;28miter\u001b[39m([\u001b[38;5;241m2\u001b[39m, \u001b[38;5;241m5\u001b[39m, \u001b[38;5;241m8\u001b[39m, \u001b[38;5;241m3\u001b[39m, \u001b[38;5;241m1\u001b[39m]))      \u001b[38;5;66;03m# sorted内置函数\u001b[39;00m\n\u001b[1;32m      5\u001b[0m \u001b[38;5;28mlist\u001b[39m(\u001b[38;5;28mzip\u001b[39m([\u001b[38;5;241m1\u001b[39m, \u001b[38;5;241m2\u001b[39m], [\u001b[38;5;241m3\u001b[39m, \u001b[38;5;241m4\u001b[39m]))          \u001b[38;5;66;03m# zip内置函数 [(1, 3), (2, 4)]\u001b[39;00m\n",
      "File \u001b[0;32m//Users/pfinal/.pyenv/versions/3.9.16/envs/base3.9/lib/python3.9/site-packages/IPython/core/interactiveshell.py:284\u001b[0m, in \u001b[0;36m_modified_open\u001b[0;34m(file, *args, **kwargs)\u001b[0m\n\u001b[1;32m    277\u001b[0m \u001b[38;5;28;01mif\u001b[39;00m file \u001b[38;5;129;01min\u001b[39;00m {\u001b[38;5;241m0\u001b[39m, \u001b[38;5;241m1\u001b[39m, \u001b[38;5;241m2\u001b[39m}:\n\u001b[1;32m    278\u001b[0m     \u001b[38;5;28;01mraise\u001b[39;00m \u001b[38;5;167;01mValueError\u001b[39;00m(\n\u001b[1;32m    279\u001b[0m         \u001b[38;5;124mf\u001b[39m\u001b[38;5;124m\"\u001b[39m\u001b[38;5;124mIPython won\u001b[39m\u001b[38;5;124m'\u001b[39m\u001b[38;5;124mt let you open fd=\u001b[39m\u001b[38;5;132;01m{\u001b[39;00mfile\u001b[38;5;132;01m}\u001b[39;00m\u001b[38;5;124m by default \u001b[39m\u001b[38;5;124m\"\u001b[39m\n\u001b[1;32m    280\u001b[0m         \u001b[38;5;124m\"\u001b[39m\u001b[38;5;124mas it is likely to crash IPython. If you know what you are doing, \u001b[39m\u001b[38;5;124m\"\u001b[39m\n\u001b[1;32m    281\u001b[0m         \u001b[38;5;124m\"\u001b[39m\u001b[38;5;124myou can use builtins\u001b[39m\u001b[38;5;124m'\u001b[39m\u001b[38;5;124m open.\u001b[39m\u001b[38;5;124m\"\u001b[39m\n\u001b[1;32m    282\u001b[0m     )\n\u001b[0;32m--> 284\u001b[0m \u001b[38;5;28;01mreturn\u001b[39;00m \u001b[43mio_open\u001b[49m\u001b[43m(\u001b[49m\u001b[43mfile\u001b[49m\u001b[43m,\u001b[49m\u001b[43m \u001b[49m\u001b[38;5;241;43m*\u001b[39;49m\u001b[43margs\u001b[49m\u001b[43m,\u001b[49m\u001b[43m \u001b[49m\u001b[38;5;241;43m*\u001b[39;49m\u001b[38;5;241;43m*\u001b[39;49m\u001b[43mkwargs\u001b[49m\u001b[43m)\u001b[49m\n",
      "\u001b[0;31mFileNotFoundError\u001b[0m: [Errno 2] No such file or directory: 't'"
     ]
    }
   ],
   "source": [
    "#-- 列表解析 in成员关系测试 map sorted zip enumerate内置函数等都使用了迭代协议\n",
    "'first line ' in open('text.txt')\n",
    "list(map(str.upper, open('t')))    # map内置函数\n",
    "sorted(iter([2, 5, 8, 3, 1]))      # sorted内置函数\n",
    "list(zip([1, 2], [3, 4]))          # zip内置函数 [(1, 3), (2, 4)]"
   ]
  },
  {
   "cell_type": "code",
   "execution_count": null,
   "id": "83d12411",
   "metadata": {},
   "outputs": [],
   "source": [
    "#-- del语句: 手动删除某个变量\n",
    "del X"
   ]
  },
  {
   "cell_type": "code",
   "execution_count": 9,
   "id": "17a4ac86",
   "metadata": {
    "ExecuteTime": {
     "end_time": "2023-04-14T02:44:30.841989Z",
     "start_time": "2023-04-14T02:44:30.836629Z"
    }
   },
   "outputs": [
    {
     "data": {
      "text/plain": [
       "[2, 4, 6]"
      ]
     },
     "execution_count": 9,
     "metadata": {},
     "output_type": "execute_result"
    }
   ],
   "source": [
    "#-- 获取列表的子表的方法:\n",
    "x = [1,2,3,4,5,6]\n",
    "x[:3]                              # 前3个[1,2,3]\n",
    "x[1:5]                             # 中间4个[2,3,4,5]\n",
    "x[-3:]                             # 最后3个[4,5,6]\n",
    "x[::2]                             # 奇数项[1,3,5]\n",
    "x[1::2]                            # 偶数项[2,4,6]"
   ]
  },
  {
   "cell_type": "code",
   "execution_count": 10,
   "id": "53024519",
   "metadata": {
    "ExecuteTime": {
     "end_time": "2023-04-14T02:45:42.508231Z",
     "start_time": "2023-04-14T02:45:42.486925Z"
    }
   },
   "outputs": [
    {
     "ename": "AttributeError",
     "evalue": "'list_iterator' object has no attribute 'next'",
     "output_type": "error",
     "traceback": [
      "\u001b[0;31m---------------------------------------------------------------------------\u001b[0m",
      "\u001b[0;31mAttributeError\u001b[0m                            Traceback (most recent call last)",
      "Cell \u001b[0;32mIn[10], line 4\u001b[0m\n\u001b[1;32m      2\u001b[0m L \u001b[38;5;241m=\u001b[39m [\u001b[38;5;241m1\u001b[39m, \u001b[38;5;241m2\u001b[39m]\n\u001b[1;32m      3\u001b[0m I \u001b[38;5;241m=\u001b[39m \u001b[38;5;28miter\u001b[39m(L)                        \u001b[38;5;66;03m# I为L的迭代器\u001b[39;00m\n\u001b[0;32m----> 4\u001b[0m \u001b[43mI\u001b[49m\u001b[38;5;241;43m.\u001b[39;49m\u001b[43mnext\u001b[49m()                           \u001b[38;5;66;03m# 返回1\u001b[39;00m\n\u001b[1;32m      5\u001b[0m I\u001b[38;5;241m.\u001b[39mnext()                           \u001b[38;5;66;03m# 返回2\u001b[39;00m\n\u001b[1;32m      6\u001b[0m I\u001b[38;5;241m.\u001b[39mnext()                           \u001b[38;5;66;03m# Error:StopIteration\u001b[39;00m\n",
      "\u001b[0;31mAttributeError\u001b[0m: 'list_iterator' object has no attribute 'next'"
     ]
    }
   ],
   "source": [
    "#-- 手动迭代：iter和next\n",
    "L = [1, 2]\n",
    "I = iter(L)                        # I为L的迭代器\n",
    "I.next()                           # 返回1\n",
    "I.next()                           # 返回2\n",
    "I.next()                           # Error:StopIteration"
   ]
  },
  {
   "cell_type": "code",
   "execution_count": null,
   "id": "0297f4ee",
   "metadata": {},
   "outputs": [],
   "source": [
    "#-- Python 中的可迭代对象\n",
    "\"\"\"\n",
    "1.range 迭代器\n",
    "2.map,zip和filter 迭代器\n",
    "3.字典视图迭代器：D.keys()), D.items()等\n",
    "4.文件类型\n",
    "\"\"\""
   ]
  },
  {
   "cell_type": "code",
   "execution_count": null,
   "id": "35765c04",
   "metadata": {},
   "outputs": [],
   "source": []
  },
  {
   "cell_type": "code",
   "execution_count": null,
   "id": "d2ddad9d",
   "metadata": {},
   "outputs": [],
   "source": []
  },
  {
   "cell_type": "code",
   "execution_count": null,
   "id": "7b243d24",
   "metadata": {},
   "outputs": [],
   "source": []
  },
  {
   "cell_type": "code",
   "execution_count": null,
   "id": "dea104e7",
   "metadata": {},
   "outputs": [],
   "source": []
  },
  {
   "cell_type": "code",
   "execution_count": null,
   "id": "b03bdd27",
   "metadata": {},
   "outputs": [],
   "source": []
  },
  {
   "cell_type": "code",
   "execution_count": null,
   "id": "bad4a381",
   "metadata": {},
   "outputs": [],
   "source": []
  },
  {
   "cell_type": "code",
   "execution_count": null,
   "id": "4c391e05",
   "metadata": {},
   "outputs": [],
   "source": []
  },
  {
   "cell_type": "code",
   "execution_count": null,
   "id": "c9af78fd",
   "metadata": {},
   "outputs": [],
   "source": []
  },
  {
   "cell_type": "code",
   "execution_count": null,
   "id": "b9056481",
   "metadata": {},
   "outputs": [],
   "source": []
  }
 ],
 "metadata": {
  "kernelspec": {
   "display_name": "Python 3 (ipykernel)",
   "language": "python",
   "name": "python3"
  },
  "language_info": {
   "codemirror_mode": {
    "name": "ipython",
    "version": 3
   },
   "file_extension": ".py",
   "mimetype": "text/x-python",
   "name": "python",
   "nbconvert_exporter": "python",
   "pygments_lexer": "ipython3",
   "version": "3.9.16"
  },
  "toc": {
   "base_numbering": 1,
   "nav_menu": {},
   "number_sections": true,
   "sideBar": true,
   "skip_h1_title": false,
   "title_cell": "Table of Contents",
   "title_sidebar": "Contents",
   "toc_cell": false,
   "toc_position": {},
   "toc_section_display": true,
   "toc_window_display": false
  }
 },
 "nbformat": 4,
 "nbformat_minor": 5
}
