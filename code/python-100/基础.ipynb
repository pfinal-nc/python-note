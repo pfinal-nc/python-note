{
 "cells": [
  {
   "cell_type": "markdown",
   "id": "744621eb",
   "metadata": {},
   "source": [
    "#### *args 用法\n",
    "*args 和 **kwargs主要用于函数定义, 可以将不定数量的参数传递给一个函数\n",
    "预先并不知道,函数使用者会传递多少个参数给你,所以在这个场景下使用这两个关键字. *args 是用来发送一个非键值对的可变数量的参数列表给一个函数."
   ]
  },
  {
   "cell_type": "code",
   "execution_count": 1,
   "id": "6063c0e0",
   "metadata": {
    "ExecuteTime": {
     "end_time": "2023-05-29T08:42:05.118266Z",
     "start_time": "2023-05-29T08:42:05.114238Z"
    }
   },
   "outputs": [
    {
     "name": "stdout",
     "output_type": "stream",
     "text": [
      "first normal arg: yasoob\n",
      "another arg through *argv: python\n",
      "another arg through *argv: eggs\n",
      "another arg through *argv: test\n"
     ]
    }
   ],
   "source": [
    "def test_var_args(f_arg,*argv):\n",
    "    print(\"first normal arg:\", f_arg)\n",
    "    for arg in argv:\n",
    "        print(\"another arg through *argv:\", arg)\n",
    "\n",
    "test_var_args('yasoob','python', 'eggs', 'test')"
   ]
  },
  {
   "cell_type": "markdown",
   "id": "340ceae7",
   "metadata": {},
   "source": [
    "#### **kwargs 的用法啊\n",
    "**kwargs 允许你将不定长度的键值对,作为参数传递给一个函数, 如果想要在一个函数里处理带名字的参数, 你应该使用 **kwargs。"
   ]
  },
  {
   "cell_type": "code",
   "execution_count": 2,
   "id": "fffdfd8c",
   "metadata": {
    "ExecuteTime": {
     "end_time": "2023-05-29T08:46:13.006585Z",
     "start_time": "2023-05-29T08:46:13.002514Z"
    }
   },
   "outputs": [
    {
     "name": "stdout",
     "output_type": "stream",
     "text": [
      "name == pfinal\n"
     ]
    }
   ],
   "source": [
    "def greet_me(**kwargs):\n",
    "    for key,value in kwargs.items():\n",
    "        print(\"{0} == {1}\".format(key,value))\n",
    "\n",
    "greet_me(name=\"pfinal\")"
   ]
  },
  {
   "cell_type": "markdown",
   "id": "d6b5a6e8",
   "metadata": {},
   "source": [
    "#### 使用 *args 和 **kwargs 来调用函数"
   ]
  },
  {
   "cell_type": "code",
   "execution_count": 9,
   "id": "c39938d2",
   "metadata": {
    "ExecuteTime": {
     "end_time": "2023-05-29T08:51:20.932410Z",
     "start_time": "2023-05-29T08:51:20.927357Z"
    }
   },
   "outputs": [
    {
     "name": "stdout",
     "output_type": "stream",
     "text": [
      "arg1: two\n",
      "arg2: 3\n",
      "arg2: 3\n",
      "arg1: 5\n",
      "arg2: two\n",
      "arg2: two\n"
     ]
    }
   ],
   "source": [
    "def test_args_kwargs(arg1,arg2,arg3):\n",
    "    print(\"arg1:\",arg1)\n",
    "    print(\"arg2:\",arg2)\n",
    "    print(\"arg2:\",arg2)\n",
    "\n",
    "# args\n",
    "args = (\"two\",3,5)\n",
    "test_args_kwargs(*args)\n",
    "\n",
    "# kwargs \n",
    "kwargs  = {\"arg3\":3,\"arg2\":\"two\",\"arg1\":5}\n",
    "test_args_kwargs(**kwargs)\n",
    "\n",
    "#  同时使用args kwargs \n",
    "# some_fun(fargs,*args,**kwargs) "
   ]
  },
  {
   "cell_type": "markdown",
   "id": "853db65b",
   "metadata": {},
   "source": [
    "####  生成器\n",
    "生成器也是一种迭代器,但是只能对其迭代一次, 这是因为它们并没有把所有值存在内存中,而是在运行时生成值, 而是在运行时生成值, 通过遍历来使用它们，要么用 for 循环, 要么将他们传递给任意 可以进行迭代的函数和结构, 大多数时候生成器是以函数来实现的,"
   ]
  },
  {
   "cell_type": "code",
   "execution_count": 1,
   "id": "dde343dd",
   "metadata": {
    "ExecuteTime": {
     "end_time": "2023-05-29T09:01:36.238266Z",
     "start_time": "2023-05-29T09:01:36.234576Z"
    }
   },
   "outputs": [
    {
     "name": "stdout",
     "output_type": "stream",
     "text": [
      "0\n",
      "1\n",
      "2\n",
      "3\n",
      "4\n",
      "5\n",
      "6\n",
      "7\n",
      "8\n",
      "9\n"
     ]
    }
   ],
   "source": [
    "def generattor_function():\n",
    "    for i in range(10):\n",
    "        yield i\n",
    "\n",
    "for item  in generattor_function():\n",
    "    print(item)\n"
   ]
  },
  {
   "cell_type": "code",
   "execution_count": null,
   "id": "3d7c2ac9",
   "metadata": {
    "ExecuteTime": {
     "start_time": "2023-05-29T09:07:31.282Z"
    }
   },
   "outputs": [],
   "source": [
    "import sys\n",
    "sys.set_int_max_str_digits(0)\n",
    "#  斐波那契数列的生成器:\n",
    "def fibon(n):\n",
    "    a = b = 1\n",
    "    for i in range(n):\n",
    "        yield a\n",
    "        a, b = b,a + b\n",
    "\n",
    "# 使用方法:\n",
    "for x in fibon(1000):\n",
    "    print(x)"
   ]
  },
  {
   "cell_type": "code",
   "execution_count": 4,
   "id": "843aa1ab",
   "metadata": {
    "ExecuteTime": {
     "end_time": "2023-05-29T09:09:11.685578Z",
     "start_time": "2023-05-29T09:09:11.681354Z"
    }
   },
   "outputs": [
    {
     "name": "stdout",
     "output_type": "stream",
     "text": [
      "0\n",
      "1\n",
      "2\n"
     ]
    }
   ],
   "source": [
    "def generator_function():\n",
    "    for i in range(3):\n",
    "        yield i\n",
    "gen = generator_function()\n",
    "print(next(gen))\n",
    "print(next(gen))\n",
    "print(next(gen))"
   ]
  },
  {
   "cell_type": "markdown",
   "id": "b7b2bfdd",
   "metadata": {},
   "source": [
    "#### 可迭代对象\n",
    "python中任意的对象,只要他定义了可以返回一一个迭代器的__iter__方法 或定义了可以支持下标索引的__getitem__方法"
   ]
  },
  {
   "cell_type": "markdown",
   "id": "0fc26a08",
   "metadata": {},
   "source": [
    "####  Map\n",
    "map  会将一个函数映射到一个输入列表的所有元素上"
   ]
  },
  {
   "cell_type": "code",
   "execution_count": 8,
   "id": "fc34437c",
   "metadata": {
    "ExecuteTime": {
     "end_time": "2023-05-29T09:53:24.430589Z",
     "start_time": "2023-05-29T09:53:24.424900Z"
    }
   },
   "outputs": [
    {
     "name": "stdout",
     "output_type": "stream",
     "text": [
      "[0, 0]\n",
      "[1, 2]\n",
      "[4, 4]\n",
      "[9, 6]\n",
      "[16, 8]\n"
     ]
    }
   ],
   "source": [
    "# 大多时候把列表中所有元素一个个地传递给一个函数,并收集输出，map 简单而漂亮得多的方式来实现。\n",
    "items = [1,2,3,4,5]\n",
    "squared = list(map(lambda x: x**2,items))\n",
    "squared\n",
    "# 大多时候使用匿名函数 lambdas 来配合 map,\n",
    "def multipy(x):\n",
    "    return (x*x)\n",
    "def add(x):\n",
    "    return (x+x)\n",
    "funcs = [multipy,add]\n",
    "for i in range(5):\n",
    "    value = map(lambda x: x(i),funcs)\n",
    "    print(list(value))"
   ]
  },
  {
   "cell_type": "markdown",
   "id": "a169898d",
   "metadata": {},
   "source": [
    "#### Filter\n",
    "filter 过滤列表中的元素, 并且返回一个由所有符合要求的元素所构成的列表, 符合要求即函数映射到该元素时返回值为true,"
   ]
  },
  {
   "cell_type": "code",
   "execution_count": 9,
   "id": "83e1d024",
   "metadata": {
    "ExecuteTime": {
     "end_time": "2023-05-29T09:58:15.880620Z",
     "start_time": "2023-05-29T09:58:15.877361Z"
    }
   },
   "outputs": [
    {
     "name": "stdout",
     "output_type": "stream",
     "text": [
      "[-5, -4, -3, -2, -1]\n"
     ]
    }
   ],
   "source": [
    "number_list = range(-5,5)\n",
    "less_than_zero = filter(lambda x:x<0,number_list)\n",
    "print(list(less_than_zero))\n",
    "# 这个filter 类似于一个for 循环, 但它一个内置函数, 并且更快"
   ]
  },
  {
   "cell_type": "markdown",
   "id": "fa8fc006",
   "metadata": {},
   "source": [
    "#### Reduce"
   ]
  },
  {
   "cell_type": "code",
   "execution_count": 11,
   "id": "53c181e0",
   "metadata": {
    "ExecuteTime": {
     "end_time": "2023-05-29T10:01:17.977564Z",
     "start_time": "2023-05-29T10:01:17.972600Z"
    }
   },
   "outputs": [
    {
     "data": {
      "text/plain": [
       "24"
      ]
     },
     "execution_count": 11,
     "metadata": {},
     "output_type": "execute_result"
    }
   ],
   "source": [
    "from functools import reduce\n",
    "product = reduce( (lambda x,y: x*y),[1,2,3,4] )\n",
    "product"
   ]
  },
  {
   "cell_type": "markdown",
   "id": "535934d3",
   "metadata": {},
   "source": [
    "#### 对象变动\n",
    "Python 中可变(mutable)意味着\"可以被改动\"，而不可变(immutable)的意思是“常量(constant)”"
   ]
  },
  {
   "cell_type": "code",
   "execution_count": 22,
   "id": "4c2233cf",
   "metadata": {
    "ExecuteTime": {
     "end_time": "2023-05-29T10:37:53.529491Z",
     "start_time": "2023-05-29T10:37:53.522541Z"
    }
   },
   "outputs": [
    {
     "name": "stdout",
     "output_type": "stream",
     "text": [
      "['hi']\n",
      "['hi', 'bye']\n",
      "['hi', 'bye']\n"
     ]
    },
    {
     "data": {
      "text/plain": [
       "[3]"
      ]
     },
     "execution_count": 22,
     "metadata": {},
     "output_type": "execute_result"
    }
   ],
   "source": [
    "foo = ['hi']\n",
    "print(foo)\n",
    "\n",
    "bar = foo\n",
    "bar += ['bye']\n",
    "print(bar)\n",
    "print(foo)\n",
    "# foo 对象可变性(mutability) 每当将一个变量赋值为另一个可变类型的变量时,对这个额数据的任意改动会同时反映到这两个变量上去, \n",
    "# 新变量只不过是老变量的额一个别名而已这个情况只是针对可变数据类型\n",
    "# def add_to(num,target=[]):\n",
    "#     target.append(num)\n",
    "#     return target\n",
    "def add_to(num,target = None):\n",
    "    if target is None:\n",
    "        target = []\n",
    "    target.append(num)\n",
    "    return target\n",
    "\n",
    "add_to(1)\n",
    "add_to(2)\n",
    "add_to(3)"
   ]
  },
  {
   "cell_type": "markdown",
   "id": "3c49de54",
   "metadata": {},
   "source": [
    "#### 一行式"
   ]
  },
  {
   "cell_type": "code",
   "execution_count": 23,
   "id": "2ce3998c",
   "metadata": {
    "ExecuteTime": {
     "end_time": "2023-05-29T10:46:01.153554Z",
     "start_time": "2023-05-29T10:46:01.149684Z"
    }
   },
   "outputs": [
    {
     "name": "stdout",
     "output_type": "stream",
     "text": [
      "{'age': 'undefined', 'name': 'Yaasoob', 'personality': 'awesome'}\n"
     ]
    }
   ],
   "source": [
    "from pprint import pprint\n",
    "my_dict = {'name':'Yaasoob','age':'undefined','personality':'awesome'}\n",
    "pprint(my_dict)"
   ]
  },
  {
   "cell_type": "code",
   "execution_count": 28,
   "id": "27194eea",
   "metadata": {
    "ExecuteTime": {
     "end_time": "2023-05-29T10:49:06.615259Z",
     "start_time": "2023-05-29T10:49:06.611032Z"
    }
   },
   "outputs": [
    {
     "name": "stdout",
     "output_type": "stream",
     "text": [
      "[1, 2, 3, 4, 5, 6]\n"
     ]
    }
   ],
   "source": [
    "import itertools\n",
    "# 使用itertools包中的itertools.chain.from_iterable轻松快速的辗平一个列表。\n",
    "a_list = [[1,2],[3,4],[5,6]]\n",
    "print(list(itertools.chain.from_iterable(a_list)))\n"
   ]
  },
  {
   "cell_type": "code",
   "execution_count": 29,
   "id": "81a3eb7b",
   "metadata": {
    "ExecuteTime": {
     "end_time": "2023-05-29T10:50:52.508297Z",
     "start_time": "2023-05-29T10:50:52.504287Z"
    }
   },
   "outputs": [],
   "source": [
    "# 一行式的构造器 避免类初始化时大量重复的赋值语句\n",
    "\n",
    "class A(object):\n",
    "    def __init__(self,a,b,c,d,e,f):\n",
    "        self.__dict__.updatea({k:v  for k,v in locals().items() if k !='self'})"
   ]
  },
  {
   "cell_type": "markdown",
   "id": "c32c0d29",
   "metadata": {},
   "source": [
    "#### set(集合)数据结构\n",
    "set(集合)是一个非常有用的数据结构, 它与列表(list)的行为类似,区别在于set 不能包含重复的值"
   ]
  },
  {
   "cell_type": "code",
   "execution_count": 30,
   "id": "af288e6f",
   "metadata": {
    "ExecuteTime": {
     "end_time": "2023-05-29T10:56:14.882312Z",
     "start_time": "2023-05-29T10:56:14.878276Z"
    }
   },
   "outputs": [
    {
     "name": "stdout",
     "output_type": "stream",
     "text": [
      "['b', 'n']\n"
     ]
    }
   ],
   "source": [
    "some_list = ['a', 'b', 'c', 'b', 'd', 'm', 'n', 'n']\n",
    "\n",
    "duplicates = []\n",
    "for value in some_list:\n",
    "    if some_list.count(value) > 1:\n",
    "        if value not in duplicates:\n",
    "            duplicates.append(value)\n",
    "\n",
    "print(duplicates)"
   ]
  },
  {
   "cell_type": "code",
   "execution_count": 31,
   "id": "6344b26b",
   "metadata": {
    "ExecuteTime": {
     "end_time": "2023-05-29T10:57:02.357713Z",
     "start_time": "2023-05-29T10:57:02.354458Z"
    }
   },
   "outputs": [],
   "source": [
    "# 更精简版\n",
    "some_list = ['a', 'b', 'c', 'b', 'd', 'm', 'n', 'n']\n",
    "duplicates = set(x for x in some_list if some_list.count(x) > 1)\n",
    "print(duplicates)"
   ]
  },
  {
   "cell_type": "code",
   "execution_count": 1,
   "id": "54d39ee1",
   "metadata": {
    "ExecuteTime": {
     "end_time": "2023-05-29T11:23:45.507096Z",
     "start_time": "2023-05-29T11:23:45.502994Z"
    }
   },
   "outputs": [
    {
     "name": "stdout",
     "output_type": "stream",
     "text": [
      "{'red'}\n"
     ]
    }
   ],
   "source": [
    "# 交集\n",
    "valid = set(['yellow','red','blue','green','black'])\n",
    "input_set = set(['red','brown'])\n",
    "print(input_set.intersection(valid))"
   ]
  },
  {
   "cell_type": "code",
   "execution_count": 2,
   "id": "85cc8c9b",
   "metadata": {
    "ExecuteTime": {
     "end_time": "2023-05-30T01:13:11.599061Z",
     "start_time": "2023-05-30T01:13:11.594064Z"
    }
   },
   "outputs": [
    {
     "name": "stdout",
     "output_type": "stream",
     "text": [
      "{'brown'}\n"
     ]
    }
   ],
   "source": [
    "# 差集\n",
    "valida = set(['yellow', 'red', 'blue', 'green', 'black'])\n",
    "input_set = set(['red','brown'])\n",
    "print(input_set.difference(valida))"
   ]
  },
  {
   "cell_type": "code",
   "execution_count": 23,
   "id": "7869bf8b",
   "metadata": {
    "ExecuteTime": {
     "end_time": "2023-05-30T02:48:30.704008Z",
     "start_time": "2023-05-30T02:48:30.697457Z"
    }
   },
   "outputs": [
    {
     "name": "stdout",
     "output_type": "stream",
     "text": [
      "{'m'} {'a', 'm', 'h'}\n",
      "{'m'}\n",
      "{'a', 'm', 'h'}\n",
      "set()\n",
      "{'a', 'h'}\n",
      "{'m', 'x'}\n",
      "{'a', 'm', 'c', 'h'}\n",
      "{'m', '1', 'd', 'a', 'c', 'h'}\n",
      "{'m', '1', 'd', 'c', 'h'}\n",
      "5\n",
      "True\n",
      "True\n",
      "False\n",
      "False\n",
      "{'m', '1', 'd', 'x', 'c', 'h'}\n"
     ]
    }
   ],
   "source": [
    "# python 的 set 和其他语言类似, 是一个无序不重复元素集,基本功能包括关系测试和消除重复元素,  集合对象还支持union(联合), intersection(交), difference(差)和sysmmetric difference(对称差集)等数学运算.\n",
    "\n",
    "# sets 支持 x in set, len(set),和 for x in set。作为一个无序的集合，sets不记录元素位置或者插入点。因此，sets不支持 indexing, slicing, 或其它类序列（sequence-like）的操作。\n",
    "x = set('m')\n",
    "y = set(['h','a','m'])\n",
    "print(x,y)\n",
    "print(x&y) # 交集\n",
    "print(x|y) # 并集\n",
    "print(x - y) # 差集\n",
    "print(x ^ y)  # 对称差集(在或在y中,但不会同时出现在二者中)\n",
    "\n",
    "# 基本操作\n",
    "x.add('x')\n",
    "print(x)\n",
    "y.update('c')\n",
    "print(y)\n",
    "y.update(['1','d']) # 在y中添加多项\n",
    "print(y)\n",
    "\n",
    "y.remove('a') # 移除一项\n",
    "print(y)\n",
    "print(len(y))\n",
    "print('c' in y)\n",
    "print('e' not in y) \n",
    "print(y.issubset(x)) # 判断 y 中的每一个元素都在x中\n",
    "print(y.issuperset(x)) # 判断 x 中的每一个元素都在y中\n",
    "print(y.union(x)) # 返回一个新的 set 包含 x 和 y 中的每一个元素\n",
    "\"\"\"\n",
    "union(), intersection(), difference() 和 symmetric_difference() 的非运算符（non-operator，就是形如 s.union()这样的）版本将会接受任何 iterable 作为参数。相反，它们的运算符版本（operator based counterparts）要求参数必须是 sets。这样可以避免潜在的错误，如：为了更可读而使用 set('abc') & 'cbs' 来替代 set('abc').intersection('cbs')。从 2.3.1 版本中做的更改：以前所有参数都必须是 sets。\n",
    "\n",
    "另外，Set 和 ImmutableSet 两者都支持 set 与 set 之间的比较。两个 sets 在也只有在这种情况下是相等的：每一个 set 中的元素都是另一个中的元素（二者互为subset）。一个 set 比另一个 set 小，只有在第一个 set 是第二个 set 的 subset 时（是一个 subset，但是并不相等）。一个 set 比另一个 set 打，只有在第一个 set 是第二个 set 的 superset 时（是一个 superset，但是并不相等）。\n",
    "\n",
    "子 set 和相等比较并不产生完整的排序功能。例如：任意两个 sets 都不相等也不互为子 set，因此以下的运算都会返回 False：a<b, a==b, 或者a>b。因此，sets 不提供 __cmp__ 方法。\n",
    "\n",
    "因为 sets 只定义了部分排序功能（subset 关系），list.sort() 方法的输出对于 sets 的列表没有定义。\n",
    "\"\"\"\n",
    "\n"
   ]
  },
  {
   "cell_type": "markdown",
   "id": "a5b99d90",
   "metadata": {},
   "source": [
    "#### 三元运算符\n",
    "三元运算符通常在python 里被称为条件表达式"
   ]
  },
  {
   "cell_type": "code",
   "execution_count": 24,
   "id": "04bb1563",
   "metadata": {
    "ExecuteTime": {
     "end_time": "2023-05-30T02:52:53.683066Z",
     "start_time": "2023-05-30T02:52:53.679203Z"
    }
   },
   "outputs": [
    {
     "name": "stdout",
     "output_type": "stream",
     "text": [
      "fat\n"
     ]
    }
   ],
   "source": [
    "is_fat = True\n",
    "state = \"fat\" if is_fat else \"not fat\"\n",
    "print(state)"
   ]
  },
  {
   "cell_type": "markdown",
   "id": "07581e1d",
   "metadata": {},
   "source": [
    "####  装饰器"
   ]
  },
  {
   "cell_type": "code",
   "execution_count": 26,
   "id": "6348962f",
   "metadata": {
    "ExecuteTime": {
     "end_time": "2023-05-30T02:59:09.507051Z",
     "start_time": "2023-05-30T02:59:09.502763Z"
    }
   },
   "outputs": [],
   "source": [
    "# 装饰器授权 \n",
    "from functools import wraps\n",
    "\n",
    "def requires_auth(f):\n",
    "    @wraps(f)\n",
    "    def decorated(*args,**kwargs):\n",
    "        auth = request.authorization\n",
    "        if not auth or not check_auth(auth.usernaame,auth.password):\n",
    "            authenticate()\n",
    "        return f(*args, **kwargs)\n",
    "    return decorated\n"
   ]
  },
  {
   "cell_type": "code",
   "execution_count": null,
   "id": "2dc39738",
   "metadata": {},
   "outputs": [],
   "source": [
    "# 类装饰器\n",
    "from functools import wraps\n",
    "\n",
    "class logit(object):\n",
    "    def __init__(self,logfile='out.log'):\n",
    "        selfe.logfile = logfile\n",
    "        \n",
    "    def __call__(self, func):\n",
    "         @wraps(func)\n",
    "        def wrapped_function(*args, **kwargs):\n",
    "            log_string = func.__name__ + \" was called\"\n",
    "            print(log_string)\n",
    "            # 打开logfile并写入\n",
    "            with open(self.logfile, 'a') as opened_file:\n",
    "                # 现在将日志打到指定的文件\n",
    "                opened_file.write(log_string + '\\n')\n",
    "            # 现在，发送一个通知\n",
    "            self.notify()\n",
    "            return func(*args, **kwargs)\n",
    "        return wrapped_function\n",
    "    def notify(self):\n",
    "        # logit 只打日志,不做别的\n",
    "        pass\n",
    "\n",
    "class  email_logit(logit):\n",
    "    \"\"\"\n",
    "        一个logit的实现版本，可以在函数调用时发送email给管理员\n",
    "    \"\"\"\n",
    "    def __init__(self, email=\"admin@pfinal.com\", *args, **kwargs):\n",
    "        self.email = email\n",
    "        super(email_logit, self).__init__(*args, **kwargs)\n",
    "    \n",
    "    def notify(self):\n",
    "        # 发送一封email到self.email\n",
    "        pass\n",
    "    \n",
    "# 从现在起，@email_logit将会和@logit产生同样的效果，但是在打日志的基础上，还会多发送一封邮件给管理员。"
   ]
  },
  {
   "cell_type": "code",
   "execution_count": 28,
   "id": "f41ddbda",
   "metadata": {
    "ExecuteTime": {
     "end_time": "2023-05-30T03:11:14.378852Z",
     "start_time": "2023-05-30T03:11:14.353681Z"
    }
   },
   "outputs": [
    {
     "name": "stdout",
     "output_type": "stream",
     "text": [
      "hiyasoob\n",
      "hiyasoob\n"
     ]
    },
    {
     "ename": "NameError",
     "evalue": "name 'hi' is not defined",
     "output_type": "error",
     "traceback": [
      "\u001B[0;31m---------------------------------------------------------------------------\u001B[0m",
      "\u001B[0;31mNameError\u001B[0m                                 Traceback (most recent call last)",
      "Cell \u001B[0;32mIn[28], line 14\u001B[0m\n\u001B[1;32m     10\u001B[0m \u001B[38;5;66;03m# output: 'hi yasoob'\u001B[39;00m\n\u001B[1;32m     11\u001B[0m \n\u001B[1;32m     12\u001B[0m \u001B[38;5;66;03m# 如果我们删掉旧的hi函数，看看会发生什么！\u001B[39;00m\n\u001B[1;32m     13\u001B[0m \u001B[38;5;28;01mdel\u001B[39;00m hi\n\u001B[0;32m---> 14\u001B[0m \u001B[38;5;28mprint\u001B[39m(\u001B[43mhi\u001B[49m())\n\u001B[1;32m     15\u001B[0m \u001B[38;5;66;03m#outputs: NameError\u001B[39;00m\n\u001B[1;32m     17\u001B[0m \u001B[38;5;28mprint\u001B[39m(greet())\n",
      "\u001B[0;31mNameError\u001B[0m: name 'hi' is not defined"
     ]
    }
   ],
   "source": [
    "def hi(name='yasoob'):\n",
    "    return \"hi\" + name\n",
    "print(hi())\n",
    "# 我们甚至可以将一个函数赋值给一个变量，比如\n",
    "greet = hi\n",
    "# 我们这里没有在使用小括号，因为我们并不是在调用hi函数\n",
    "# 而是在将它放在greet变量里头。我们尝试运行下这个\n",
    "\n",
    "print(greet())\n",
    "# output: 'hi yasoob'\n",
    "\n",
    "# 如果我们删掉旧的hi函数，看看会发生什么！\n",
    "del hi\n",
    "print(hi())\n",
    "#outputs: NameError\n",
    "\n",
    "print(greet())\n",
    "#outputs: 'hi yasoob"
   ]
  },
  {
   "cell_type": "markdown",
   "id": "5c4ba584",
   "metadata": {},
   "source": []
  },
  {
   "cell_type": "code",
   "execution_count": 1,
   "id": "e7c12cf9",
   "metadata": {
    "ExecuteTime": {
     "end_time": "2023-07-11T01:43:20.508982Z",
     "start_time": "2023-07-11T01:43:20.501278Z"
    }
   },
   "outputs": [
    {
     "data": {
      "text/plain": [
       "(1, 2, 3)"
      ]
     },
     "execution_count": 1,
     "metadata": {},
     "output_type": "execute_result"
    }
   ],
   "source": [
    "a_tuple=1,2,3 # 创建一个元组  默认进行元组打包\n",
    "a_tuple"
   ]
  },
  {
   "cell_type": "code",
   "execution_count": 2,
   "id": "9d66d423",
   "metadata": {
    "ExecuteTime": {
     "end_time": "2023-07-11T01:45:25.433388Z",
     "start_time": "2023-07-11T01:45:25.429682Z"
    }
   },
   "outputs": [
    {
     "name": "stdout",
     "output_type": "stream",
     "text": [
      "0 1\n",
      "1 2\n",
      "2 3\n",
      "3 4\n",
      "4 5\n",
      "5 6\n",
      "6 7\n",
      "7 8\n",
      "8 9\n",
      "9 10\n"
     ]
    }
   ],
   "source": [
    "# 使用 enumerate 函数 创建自己的索引计数器\n",
    "a_list=[1,2,3,4,5,6,7,8,9,10]\n",
    "for index,elem in enumerate(a_list):\n",
    "    print(index,elem)"
   ]
  },
  {
   "cell_type": "code",
   "execution_count": 5,
   "id": "41214427",
   "metadata": {
    "ExecuteTime": {
     "end_time": "2023-07-11T01:52:18.874474Z",
     "start_time": "2023-07-11T01:52:18.869511Z"
    }
   },
   "outputs": [
    {
     "name": "stdout",
     "output_type": "stream",
     "text": [
      "{'A': 'blue', 'B': 'red', 'C': 'bold'}\n"
     ]
    }
   ],
   "source": [
    "keys_list = ['A', 'B', 'C']\n",
    "values_list = ['blue', 'red', 'bold']\n",
    "\n",
    "#There are 3 ways to convert these two lists into a dictionary\n",
    "#1- Using Python's zip, dict functionz\n",
    "dict_method_1 = dict(zip(keys_list, values_list))\n",
    "\n",
    "#2- Using the zip function with dictionary comprehensions\n",
    "dict_method_2 = {key:value for key, value in zip(keys_list, values_list)}\n",
    "\n",
    "#3- Using the zip function with a loop\n",
    "items_tuples = zip(keys_list, values_list) \n",
    "dict_method_3 = {} \n",
    "for key, value in items_tuples: \n",
    "    if key in dict_method_3: \n",
    "        pass # To avoid repeating keys.\n",
    "    else: \n",
    "        dict_method_3[key] = value\n",
    "\n",
    "print(dict_method_3)"
   ]
  },
  {
   "cell_type": "code",
   "execution_count": 10,
   "id": "b44a65c1",
   "metadata": {
    "ExecuteTime": {
     "end_time": "2023-07-11T01:57:43.635984Z",
     "start_time": "2023-07-11T01:57:43.629100Z"
    }
   },
   "outputs": [
    {
     "name": "stdout",
     "output_type": "stream",
     "text": [
      "4\n"
     ]
    },
    {
     "data": {
      "text/plain": [
       "[[1, 'a', 'h'], [2, 'b', 'e'], [3, 'c', 'y'], [None, None, 'f']]"
      ]
     },
     "execution_count": 10,
     "metadata": {},
     "output_type": "execute_result"
    }
   ],
   "source": [
    "# 将两个或对个列表合并为一个包含列表的列表\n",
    "# 有 4 个列表 [1,2,3], ['a','b','c'], ['h','e','y'] 和 [4,5, 6]，\n",
    "# 想为这四个列表创建一个新列表；它将是 [[1,'a','h',4], [2,'b','e',5], [3,'c','y',6]]\n",
    "\n",
    "def merge(*args, missing_val = None):\n",
    "    max_length = max([len(lst) for lst in args])\n",
    "    print(max_length)\n",
    "    outList = []\n",
    "    for i in range(max_length):\n",
    "          outList.append([args[k][i] if i < len(args[k]) else missing_val for k in range(len(args))])\n",
    "    return outList\n",
    "\n",
    "merge([1,2,3], ['a','b','c'], ['h','e','y','f'])\n"
   ]
  },
  {
   "cell_type": "markdown",
   "id": "bc3edd12",
   "metadata": {},
   "source": [
    "\n"
   ]
  },
  {
   "cell_type": "code",
   "execution_count": 11,
   "id": "c5f28f96",
   "metadata": {
    "ExecuteTime": {
     "end_time": "2023-07-11T02:28:53.493653Z",
     "start_time": "2023-07-11T02:28:53.488589Z"
    }
   },
   "outputs": [
    {
     "ename": "SyntaxError",
     "evalue": "invalid syntax (3609757466.py, line 1)",
     "output_type": "error",
     "traceback": [
      "\u001B[0;36m  Cell \u001B[0;32mIn[11], line 1\u001B[0;36m\u001B[0m\n\u001B[0;31m    class AppConfig\u001B[0m\n\u001B[0m                   ^\u001B[0m\n\u001B[0;31mSyntaxError\u001B[0m\u001B[0;31m:\u001B[0m invalid syntax\n"
     ]
    }
   ],
   "source": [
    "class AppConfig:\n",
    "    _instance = None\n",
    "    def __new__(cls):\n",
    "        if cls._instance is None:\n",
    "            inst = super().__new__(cls)\n",
    "            cls._instance = inst\n",
    "        return cls._instaance\n",
    "    "
   ]
  },
  {
   "cell_type": "code",
   "execution_count": null,
   "id": "5a72a604",
   "metadata": {},
   "outputs": [],
   "source": []
  },
  {
   "cell_type": "code",
   "execution_count": null,
   "id": "f20a8dfe",
   "metadata": {},
   "outputs": [],
   "source": []
  },
  {
   "cell_type": "code",
   "execution_count": null,
   "id": "0a840984",
   "metadata": {},
   "outputs": [],
   "source": []
  },
  {
   "cell_type": "code",
   "execution_count": null,
   "id": "d67455ac",
   "metadata": {},
   "outputs": [],
   "source": []
  },
  {
   "cell_type": "code",
   "execution_count": null,
   "id": "650ef728",
   "metadata": {},
   "outputs": [],
   "source": []
  },
  {
   "cell_type": "code",
   "execution_count": null,
   "id": "35c43bbe",
   "metadata": {},
   "outputs": [],
   "source": []
  },
  {
   "cell_type": "code",
   "execution_count": null,
   "id": "31ea7d46",
   "metadata": {},
   "outputs": [],
   "source": []
  },
  {
   "cell_type": "code",
   "execution_count": null,
   "id": "e50d06eb",
   "metadata": {},
   "outputs": [],
   "source": []
  },
  {
   "cell_type": "code",
   "execution_count": null,
   "id": "fe3800e9",
   "metadata": {},
   "outputs": [],
   "source": []
  },
  {
   "cell_type": "code",
   "execution_count": null,
   "id": "c8917145",
   "metadata": {},
   "outputs": [],
   "source": []
  },
  {
   "cell_type": "code",
   "execution_count": null,
   "id": "2412390f",
   "metadata": {},
   "outputs": [],
   "source": []
  },
  {
   "cell_type": "code",
   "execution_count": null,
   "id": "c0ad2ce1",
   "metadata": {},
   "outputs": [],
   "source": []
  }
 ],
 "metadata": {
  "kernelspec": {
   "display_name": "Python 3 (ipykernel)",
   "language": "python",
   "name": "python3"
  },
  "language_info": {
   "codemirror_mode": {
    "name": "ipython",
    "version": 3
   },
   "file_extension": ".py",
   "mimetype": "text/x-python",
   "name": "python",
   "nbconvert_exporter": "python",
   "pygments_lexer": "ipython3",
   "version": "3.9.16"
  },
  "toc": {
   "base_numbering": 1,
   "nav_menu": {},
   "number_sections": true,
   "sideBar": true,
   "skip_h1_title": false,
   "title_cell": "Table of Contents",
   "title_sidebar": "Contents",
   "toc_cell": false,
   "toc_position": {},
   "toc_section_display": true,
   "toc_window_display": false
  }
 },
 "nbformat": 4,
 "nbformat_minor": 5
}
